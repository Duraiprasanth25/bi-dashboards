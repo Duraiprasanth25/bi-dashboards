{
  "cells": [
    {
      "cell_type": "markdown",
      "metadata": {
        "id": "view-in-github",
        "colab_type": "text"
      },
      "source": [
        "<a href=\"https://colab.research.google.com/github/Duraiprasanth25/bi-dashboards/blob/main/AtliQ_Hotels_Data_analysis.ipynb\" target=\"_parent\"><img src=\"https://colab.research.google.com/assets/colab-badge.svg\" alt=\"Open In Colab\"/></a>"
      ]
    },
    {
      "cell_type": "markdown",
      "id": "985948c2-25fb-45ce-9333-98d353bb728e",
      "metadata": {
        "id": "985948c2-25fb-45ce-9333-98d353bb728e"
      },
      "source": [
        "## AtliQ Hotels Data Analysis Project\n",
        "\n",
        "AtliQ Hotels is a luxury hotels chain in India spread across 4 cities, viz Mumbai, Delhi, Hyderabad and Banglore.\n",
        "\n",
        "They are witnessing a drop in business and hence they have made available 3 months dataset from May 2022 to July 2022 for analysis. Data for August 2022 is separately given.\n",
        "\n",
        "The objective of this notebook is to analyse thier data and present data driven insights."
      ]
    },
    {
      "cell_type": "markdown",
      "id": "cb6a394a-d076-458d-bf32-697e0a1b117a",
      "metadata": {
        "id": "cb6a394a-d076-458d-bf32-697e0a1b117a"
      },
      "source": [
        "## 1. Data Import and Data Exploration"
      ]
    },
    {
      "cell_type": "markdown",
      "id": "f10964f6-e136-4f3e-a25f-976dc0aa14c2",
      "metadata": {
        "id": "f10964f6-e136-4f3e-a25f-976dc0aa14c2"
      },
      "source": [
        "## Datasets\n",
        "\n",
        "We have 6 csv files\n",
        "\n",
        "- dim_date.csv\n",
        "- dim_hotels.csv\n",
        "- dim_rooms.csv\n",
        "- fact_aggregated_bookings.csv\n",
        "- fact_bookings.csv\n",
        "- new_data_august.csv"
      ]
    },
    {
      "cell_type": "code",
      "execution_count": null,
      "id": "4f24c438-9680-4d1e-a1cf-9d4f1b93c18b",
      "metadata": {
        "id": "4f24c438-9680-4d1e-a1cf-9d4f1b93c18b"
      },
      "outputs": [],
      "source": [
        "import pandas as pd"
      ]
    },
    {
      "cell_type": "markdown",
      "id": "a6fa5629-db70-4f76-bdc9-3822bc49b8c5",
      "metadata": {
        "id": "a6fa5629-db70-4f76-bdc9-3822bc49b8c5"
      },
      "source": [
        "### 1.1 Importing all datasets"
      ]
    },
    {
      "cell_type": "code",
      "execution_count": null,
      "id": "e2504f3c-ec68-49f3-b768-ad4bc99f0864",
      "metadata": {
        "id": "e2504f3c-ec68-49f3-b768-ad4bc99f0864"
      },
      "outputs": [],
      "source": [
        "df_date = pd.read_csv(\"datasets/dim_date.csv\")\n",
        "df_hotels = pd.read_csv(\"datasets/dim_hotels.csv\")\n",
        "df_rooms = pd.read_csv(\"datasets/dim_rooms.csv\")\n",
        "df_agg_bookings = pd.read_csv(\"datasets/fact_aggregated_bookings.csv\")\n",
        "df_bookings = pd.read_csv(\"datasets/fact_bookings.csv\")\n",
        "df_august = pd.read_csv(\"datasets/new_data_august.csv\")"
      ]
    },
    {
      "cell_type": "markdown",
      "id": "7e1d7fe6-8711-472b-a618-d25919660a27",
      "metadata": {
        "id": "7e1d7fe6-8711-472b-a618-d25919660a27"
      },
      "source": [
        "### 1.2 Explore dim_date table"
      ]
    },
    {
      "cell_type": "code",
      "execution_count": null,
      "id": "0f4db35d-be05-4f7e-a0b8-6eb531f8dc14",
      "metadata": {
        "id": "0f4db35d-be05-4f7e-a0b8-6eb531f8dc14",
        "outputId": "24523486-3dec-4be0-9bb2-bb3e66fd9e7f"
      },
      "outputs": [
        {
          "data": {
            "text/html": [
              "<div>\n",
              "<style scoped>\n",
              "    .dataframe tbody tr th:only-of-type {\n",
              "        vertical-align: middle;\n",
              "    }\n",
              "\n",
              "    .dataframe tbody tr th {\n",
              "        vertical-align: top;\n",
              "    }\n",
              "\n",
              "    .dataframe thead th {\n",
              "        text-align: right;\n",
              "    }\n",
              "</style>\n",
              "<table border=\"1\" class=\"dataframe\">\n",
              "  <thead>\n",
              "    <tr style=\"text-align: right;\">\n",
              "      <th></th>\n",
              "      <th>date</th>\n",
              "      <th>mmm yy</th>\n",
              "      <th>week no</th>\n",
              "      <th>day_type</th>\n",
              "    </tr>\n",
              "  </thead>\n",
              "  <tbody>\n",
              "    <tr>\n",
              "      <th>0</th>\n",
              "      <td>01-May-22</td>\n",
              "      <td>May 22</td>\n",
              "      <td>W 19</td>\n",
              "      <td>weekend</td>\n",
              "    </tr>\n",
              "    <tr>\n",
              "      <th>1</th>\n",
              "      <td>02-May-22</td>\n",
              "      <td>May 22</td>\n",
              "      <td>W 19</td>\n",
              "      <td>weekeday</td>\n",
              "    </tr>\n",
              "    <tr>\n",
              "      <th>2</th>\n",
              "      <td>03-May-22</td>\n",
              "      <td>May 22</td>\n",
              "      <td>W 19</td>\n",
              "      <td>weekeday</td>\n",
              "    </tr>\n",
              "    <tr>\n",
              "      <th>3</th>\n",
              "      <td>04-May-22</td>\n",
              "      <td>May 22</td>\n",
              "      <td>W 19</td>\n",
              "      <td>weekeday</td>\n",
              "    </tr>\n",
              "    <tr>\n",
              "      <th>4</th>\n",
              "      <td>05-May-22</td>\n",
              "      <td>May 22</td>\n",
              "      <td>W 19</td>\n",
              "      <td>weekeday</td>\n",
              "    </tr>\n",
              "    <tr>\n",
              "      <th>...</th>\n",
              "      <td>...</td>\n",
              "      <td>...</td>\n",
              "      <td>...</td>\n",
              "      <td>...</td>\n",
              "    </tr>\n",
              "    <tr>\n",
              "      <th>87</th>\n",
              "      <td>27-Jul-22</td>\n",
              "      <td>Jul 22</td>\n",
              "      <td>W 31</td>\n",
              "      <td>weekeday</td>\n",
              "    </tr>\n",
              "    <tr>\n",
              "      <th>88</th>\n",
              "      <td>28-Jul-22</td>\n",
              "      <td>Jul 22</td>\n",
              "      <td>W 31</td>\n",
              "      <td>weekeday</td>\n",
              "    </tr>\n",
              "    <tr>\n",
              "      <th>89</th>\n",
              "      <td>29-Jul-22</td>\n",
              "      <td>Jul 22</td>\n",
              "      <td>W 31</td>\n",
              "      <td>weekeday</td>\n",
              "    </tr>\n",
              "    <tr>\n",
              "      <th>90</th>\n",
              "      <td>30-Jul-22</td>\n",
              "      <td>Jul 22</td>\n",
              "      <td>W 31</td>\n",
              "      <td>weekend</td>\n",
              "    </tr>\n",
              "    <tr>\n",
              "      <th>91</th>\n",
              "      <td>31-Jul-22</td>\n",
              "      <td>Jul 22</td>\n",
              "      <td>W 32</td>\n",
              "      <td>weekend</td>\n",
              "    </tr>\n",
              "  </tbody>\n",
              "</table>\n",
              "<p>92 rows × 4 columns</p>\n",
              "</div>"
            ],
            "text/plain": [
              "         date  mmm yy week no  day_type\n",
              "0   01-May-22  May 22    W 19   weekend\n",
              "1   02-May-22  May 22    W 19  weekeday\n",
              "2   03-May-22  May 22    W 19  weekeday\n",
              "3   04-May-22  May 22    W 19  weekeday\n",
              "4   05-May-22  May 22    W 19  weekeday\n",
              "..        ...     ...     ...       ...\n",
              "87  27-Jul-22  Jul 22    W 31  weekeday\n",
              "88  28-Jul-22  Jul 22    W 31  weekeday\n",
              "89  29-Jul-22  Jul 22    W 31  weekeday\n",
              "90  30-Jul-22  Jul 22    W 31   weekend\n",
              "91  31-Jul-22  Jul 22    W 32   weekend\n",
              "\n",
              "[92 rows x 4 columns]"
            ]
          },
          "execution_count": 3,
          "metadata": {},
          "output_type": "execute_result"
        }
      ],
      "source": [
        "#DataFrame\n",
        "df_date"
      ]
    },
    {
      "cell_type": "code",
      "execution_count": null,
      "id": "9416ca5d-7c34-4b16-a3bb-b20ea7af16a7",
      "metadata": {
        "id": "9416ca5d-7c34-4b16-a3bb-b20ea7af16a7",
        "outputId": "e5720fec-df17-4c41-8a72-6d78e1301d7c"
      },
      "outputs": [
        {
          "name": "stdout",
          "output_type": "stream",
          "text": [
            "<class 'pandas.core.frame.DataFrame'>\n",
            "RangeIndex: 92 entries, 0 to 91\n",
            "Data columns (total 4 columns):\n",
            " #   Column    Non-Null Count  Dtype \n",
            "---  ------    --------------  ----- \n",
            " 0   date      92 non-null     object\n",
            " 1   mmm yy    92 non-null     object\n",
            " 2   week no   92 non-null     object\n",
            " 3   day_type  92 non-null     object\n",
            "dtypes: object(4)\n",
            "memory usage: 3.0+ KB\n"
          ]
        }
      ],
      "source": [
        "df_date.info()"
      ]
    },
    {
      "cell_type": "markdown",
      "id": "64c470dc-2e52-49d2-82a6-b60dd3e42489",
      "metadata": {
        "id": "64c470dc-2e52-49d2-82a6-b60dd3e42489"
      },
      "source": [
        "- Format of the _date_ column is object. Needs to be converted to date.time\n",
        "- Has no null values\n"
      ]
    },
    {
      "cell_type": "code",
      "execution_count": null,
      "id": "5fe207bf-200c-42ae-9eb4-07cc534e1c22",
      "metadata": {
        "id": "5fe207bf-200c-42ae-9eb4-07cc534e1c22",
        "outputId": "519762b9-d337-426a-f988-5e4e0cf1946f"
      },
      "outputs": [
        {
          "data": {
            "text/plain": [
              "date        datetime64[ns]\n",
              "mmm yy              object\n",
              "week no             object\n",
              "day_type            object\n",
              "dtype: object"
            ]
          },
          "execution_count": 65,
          "metadata": {},
          "output_type": "execute_result"
        }
      ],
      "source": [
        "df_date['date'] = pd.to_datetime(df_date['date'], format='%d-%m-%y', errors='coerce')\n",
        "df_date.dtypes"
      ]
    },
    {
      "cell_type": "code",
      "execution_count": null,
      "id": "fe84aa8f-e13d-403a-a6d8-a627211524e4",
      "metadata": {
        "id": "fe84aa8f-e13d-403a-a6d8-a627211524e4",
        "outputId": "7a018b75-2d61-4cf1-ba6c-9b201633e89e"
      },
      "outputs": [
        {
          "data": {
            "text/plain": [
              "(Timestamp('2022-05-01 00:00:00'), Timestamp('2022-07-31 00:00:00'))"
            ]
          },
          "execution_count": 6,
          "metadata": {},
          "output_type": "execute_result"
        }
      ],
      "source": [
        "df_date.date.min(), df_date.date.max()"
      ]
    },
    {
      "cell_type": "markdown",
      "id": "8042ae56-bcc8-412e-a5da-225ebd1b71b2",
      "metadata": {
        "id": "8042ae56-bcc8-412e-a5da-225ebd1b71b2"
      },
      "source": [
        "Date in this table ranges from May 2022 to July 2022"
      ]
    },
    {
      "cell_type": "code",
      "execution_count": null,
      "id": "db47e80a-9ca8-440d-8b13-ba3e2ac7790a",
      "metadata": {
        "id": "db47e80a-9ca8-440d-8b13-ba3e2ac7790a",
        "outputId": "620d602c-e0f7-4863-a9c9-0481aca97754"
      },
      "outputs": [
        {
          "data": {
            "text/plain": [
              "mmm yy\n",
              "May 22    31\n",
              "Jul 22    31\n",
              "Jun 22    30\n",
              "Name: count, dtype: int64"
            ]
          },
          "execution_count": 7,
          "metadata": {},
          "output_type": "execute_result"
        }
      ],
      "source": [
        "df_date['mmm yy'].value_counts()"
      ]
    },
    {
      "cell_type": "markdown",
      "id": "ccc7807b-16f5-4573-8912-49e10ddd4d2c",
      "metadata": {
        "id": "ccc7807b-16f5-4573-8912-49e10ddd4d2c"
      },
      "source": [
        "### 1.3 Explore dim_hotels table"
      ]
    },
    {
      "cell_type": "code",
      "execution_count": null,
      "id": "8c804c00-2b02-44af-b06a-cfdc8080a8c9",
      "metadata": {
        "id": "8c804c00-2b02-44af-b06a-cfdc8080a8c9",
        "outputId": "b6d9bc2c-19b1-4510-84b3-2397331a48ab"
      },
      "outputs": [
        {
          "data": {
            "text/html": [
              "<div>\n",
              "<style scoped>\n",
              "    .dataframe tbody tr th:only-of-type {\n",
              "        vertical-align: middle;\n",
              "    }\n",
              "\n",
              "    .dataframe tbody tr th {\n",
              "        vertical-align: top;\n",
              "    }\n",
              "\n",
              "    .dataframe thead th {\n",
              "        text-align: right;\n",
              "    }\n",
              "</style>\n",
              "<table border=\"1\" class=\"dataframe\">\n",
              "  <thead>\n",
              "    <tr style=\"text-align: right;\">\n",
              "      <th></th>\n",
              "      <th>property_id</th>\n",
              "      <th>property_name</th>\n",
              "      <th>category</th>\n",
              "      <th>city</th>\n",
              "    </tr>\n",
              "  </thead>\n",
              "  <tbody>\n",
              "    <tr>\n",
              "      <th>0</th>\n",
              "      <td>16558</td>\n",
              "      <td>Atliq Grands</td>\n",
              "      <td>Luxury</td>\n",
              "      <td>Delhi</td>\n",
              "    </tr>\n",
              "    <tr>\n",
              "      <th>1</th>\n",
              "      <td>16559</td>\n",
              "      <td>Atliq Exotica</td>\n",
              "      <td>Luxury</td>\n",
              "      <td>Mumbai</td>\n",
              "    </tr>\n",
              "    <tr>\n",
              "      <th>2</th>\n",
              "      <td>16560</td>\n",
              "      <td>Atliq City</td>\n",
              "      <td>Business</td>\n",
              "      <td>Delhi</td>\n",
              "    </tr>\n",
              "    <tr>\n",
              "      <th>3</th>\n",
              "      <td>16561</td>\n",
              "      <td>Atliq Blu</td>\n",
              "      <td>Luxury</td>\n",
              "      <td>Delhi</td>\n",
              "    </tr>\n",
              "    <tr>\n",
              "      <th>4</th>\n",
              "      <td>16562</td>\n",
              "      <td>Atliq Bay</td>\n",
              "      <td>Luxury</td>\n",
              "      <td>Delhi</td>\n",
              "    </tr>\n",
              "    <tr>\n",
              "      <th>5</th>\n",
              "      <td>16563</td>\n",
              "      <td>Atliq Palace</td>\n",
              "      <td>Business</td>\n",
              "      <td>Delhi</td>\n",
              "    </tr>\n",
              "    <tr>\n",
              "      <th>6</th>\n",
              "      <td>17558</td>\n",
              "      <td>Atliq Grands</td>\n",
              "      <td>Luxury</td>\n",
              "      <td>Mumbai</td>\n",
              "    </tr>\n",
              "    <tr>\n",
              "      <th>7</th>\n",
              "      <td>17559</td>\n",
              "      <td>Atliq Exotica</td>\n",
              "      <td>Luxury</td>\n",
              "      <td>Mumbai</td>\n",
              "    </tr>\n",
              "    <tr>\n",
              "      <th>8</th>\n",
              "      <td>17560</td>\n",
              "      <td>Atliq City</td>\n",
              "      <td>Business</td>\n",
              "      <td>Mumbai</td>\n",
              "    </tr>\n",
              "    <tr>\n",
              "      <th>9</th>\n",
              "      <td>17561</td>\n",
              "      <td>Atliq Blu</td>\n",
              "      <td>Luxury</td>\n",
              "      <td>Mumbai</td>\n",
              "    </tr>\n",
              "    <tr>\n",
              "      <th>10</th>\n",
              "      <td>17562</td>\n",
              "      <td>Atliq Bay</td>\n",
              "      <td>Luxury</td>\n",
              "      <td>Mumbai</td>\n",
              "    </tr>\n",
              "    <tr>\n",
              "      <th>11</th>\n",
              "      <td>17563</td>\n",
              "      <td>Atliq Palace</td>\n",
              "      <td>Business</td>\n",
              "      <td>Mumbai</td>\n",
              "    </tr>\n",
              "    <tr>\n",
              "      <th>12</th>\n",
              "      <td>18558</td>\n",
              "      <td>Atliq Grands</td>\n",
              "      <td>Luxury</td>\n",
              "      <td>Hyderabad</td>\n",
              "    </tr>\n",
              "    <tr>\n",
              "      <th>13</th>\n",
              "      <td>18559</td>\n",
              "      <td>Atliq Exotica</td>\n",
              "      <td>Luxury</td>\n",
              "      <td>Hyderabad</td>\n",
              "    </tr>\n",
              "    <tr>\n",
              "      <th>14</th>\n",
              "      <td>18560</td>\n",
              "      <td>Atliq City</td>\n",
              "      <td>Business</td>\n",
              "      <td>Hyderabad</td>\n",
              "    </tr>\n",
              "    <tr>\n",
              "      <th>15</th>\n",
              "      <td>18561</td>\n",
              "      <td>Atliq Blu</td>\n",
              "      <td>Luxury</td>\n",
              "      <td>Hyderabad</td>\n",
              "    </tr>\n",
              "    <tr>\n",
              "      <th>16</th>\n",
              "      <td>18562</td>\n",
              "      <td>Atliq Bay</td>\n",
              "      <td>Luxury</td>\n",
              "      <td>Hyderabad</td>\n",
              "    </tr>\n",
              "    <tr>\n",
              "      <th>17</th>\n",
              "      <td>18563</td>\n",
              "      <td>Atliq Palace</td>\n",
              "      <td>Business</td>\n",
              "      <td>Hyderabad</td>\n",
              "    </tr>\n",
              "    <tr>\n",
              "      <th>18</th>\n",
              "      <td>19558</td>\n",
              "      <td>Atliq Grands</td>\n",
              "      <td>Luxury</td>\n",
              "      <td>Bangalore</td>\n",
              "    </tr>\n",
              "    <tr>\n",
              "      <th>19</th>\n",
              "      <td>19559</td>\n",
              "      <td>Atliq Exotica</td>\n",
              "      <td>Luxury</td>\n",
              "      <td>Bangalore</td>\n",
              "    </tr>\n",
              "    <tr>\n",
              "      <th>20</th>\n",
              "      <td>19560</td>\n",
              "      <td>Atliq City</td>\n",
              "      <td>Business</td>\n",
              "      <td>Bangalore</td>\n",
              "    </tr>\n",
              "    <tr>\n",
              "      <th>21</th>\n",
              "      <td>19561</td>\n",
              "      <td>Atliq Blu</td>\n",
              "      <td>Luxury</td>\n",
              "      <td>Bangalore</td>\n",
              "    </tr>\n",
              "    <tr>\n",
              "      <th>22</th>\n",
              "      <td>19562</td>\n",
              "      <td>Atliq Bay</td>\n",
              "      <td>Luxury</td>\n",
              "      <td>Bangalore</td>\n",
              "    </tr>\n",
              "    <tr>\n",
              "      <th>23</th>\n",
              "      <td>19563</td>\n",
              "      <td>Atliq Palace</td>\n",
              "      <td>Business</td>\n",
              "      <td>Bangalore</td>\n",
              "    </tr>\n",
              "    <tr>\n",
              "      <th>24</th>\n",
              "      <td>17564</td>\n",
              "      <td>Atliq Seasons</td>\n",
              "      <td>Business</td>\n",
              "      <td>Mumbai</td>\n",
              "    </tr>\n",
              "  </tbody>\n",
              "</table>\n",
              "</div>"
            ],
            "text/plain": [
              "    property_id  property_name  category       city\n",
              "0         16558   Atliq Grands    Luxury      Delhi\n",
              "1         16559  Atliq Exotica    Luxury     Mumbai\n",
              "2         16560     Atliq City  Business      Delhi\n",
              "3         16561      Atliq Blu    Luxury      Delhi\n",
              "4         16562      Atliq Bay    Luxury      Delhi\n",
              "5         16563   Atliq Palace  Business      Delhi\n",
              "6         17558   Atliq Grands    Luxury     Mumbai\n",
              "7         17559  Atliq Exotica    Luxury     Mumbai\n",
              "8         17560     Atliq City  Business     Mumbai\n",
              "9         17561      Atliq Blu    Luxury     Mumbai\n",
              "10        17562      Atliq Bay    Luxury     Mumbai\n",
              "11        17563   Atliq Palace  Business     Mumbai\n",
              "12        18558   Atliq Grands    Luxury  Hyderabad\n",
              "13        18559  Atliq Exotica    Luxury  Hyderabad\n",
              "14        18560     Atliq City  Business  Hyderabad\n",
              "15        18561      Atliq Blu    Luxury  Hyderabad\n",
              "16        18562      Atliq Bay    Luxury  Hyderabad\n",
              "17        18563   Atliq Palace  Business  Hyderabad\n",
              "18        19558   Atliq Grands    Luxury  Bangalore\n",
              "19        19559  Atliq Exotica    Luxury  Bangalore\n",
              "20        19560     Atliq City  Business  Bangalore\n",
              "21        19561      Atliq Blu    Luxury  Bangalore\n",
              "22        19562      Atliq Bay    Luxury  Bangalore\n",
              "23        19563   Atliq Palace  Business  Bangalore\n",
              "24        17564  Atliq Seasons  Business     Mumbai"
            ]
          },
          "execution_count": 8,
          "metadata": {},
          "output_type": "execute_result"
        }
      ],
      "source": [
        "df_hotels"
      ]
    },
    {
      "cell_type": "code",
      "execution_count": null,
      "id": "bc293774-d37d-4905-a424-1d70e8d565d2",
      "metadata": {
        "id": "bc293774-d37d-4905-a424-1d70e8d565d2",
        "outputId": "057d9ae5-01d9-4c0f-cf85-5ce89386eb19"
      },
      "outputs": [
        {
          "data": {
            "text/plain": [
              "np.int64(0)"
            ]
          },
          "execution_count": 9,
          "metadata": {},
          "output_type": "execute_result"
        }
      ],
      "source": [
        "df_hotels.duplicated().sum()"
      ]
    },
    {
      "cell_type": "markdown",
      "id": "d523a6e6-ca08-41fa-b5ad-7ac5ca18f0a8",
      "metadata": {
        "id": "d523a6e6-ca08-41fa-b5ad-7ac5ca18f0a8"
      },
      "source": [
        "- dim_hotels has no duplicate values."
      ]
    },
    {
      "cell_type": "code",
      "execution_count": null,
      "id": "de607cfe-e830-4ac0-bafa-783356eb46c6",
      "metadata": {
        "id": "de607cfe-e830-4ac0-bafa-783356eb46c6",
        "outputId": "3bd529f2-8c9c-4658-8e02-c9c524d178d9"
      },
      "outputs": [
        {
          "name": "stdout",
          "output_type": "stream",
          "text": [
            "Unique counts related to 'dim_hotels' table\n",
            "property_id --> 25\n",
            "property_name --> 7\n",
            "category --> 2\n",
            "city --> 4\n"
          ]
        }
      ],
      "source": [
        "# no of unique properties/names/category/city\n",
        "print(\"Unique counts related to 'dim_hotels' table\")\n",
        "for column in df_hotels.columns:\n",
        "    print(f\"{column} --> {df_hotels[column].nunique()}\")"
      ]
    },
    {
      "cell_type": "code",
      "execution_count": null,
      "id": "5adb52c0-eb25-410e-84d8-24e8577c5adc",
      "metadata": {
        "id": "5adb52c0-eb25-410e-84d8-24e8577c5adc",
        "outputId": "b0ce9527-8031-498d-e925-a6e341605629"
      },
      "outputs": [
        {
          "data": {
            "text/plain": [
              "city\n",
              "Mumbai       8\n",
              "Hyderabad    6\n",
              "Bangalore    6\n",
              "Delhi        5\n",
              "Name: count, dtype: int64"
            ]
          },
          "execution_count": 11,
          "metadata": {},
          "output_type": "execute_result"
        }
      ],
      "source": [
        "# citywise number of properties\n",
        "df_hotels.city.value_counts()"
      ]
    },
    {
      "cell_type": "code",
      "execution_count": null,
      "id": "7645fca5-fb81-4966-b676-6119891b03fc",
      "metadata": {
        "id": "7645fca5-fb81-4966-b676-6119891b03fc",
        "outputId": "24381eca-d084-4de3-8d62-ba8c0c6a1e90"
      },
      "outputs": [
        {
          "data": {
            "text/plain": [
              "<Axes: xlabel='city'>"
            ]
          },
          "execution_count": 12,
          "metadata": {},
          "output_type": "execute_result"
        },
        {
          "data": {
            "image/png": "[encoded data removed]",
            "text/plain": [
              "<Figure size 640x480 with 1 Axes>"
            ]
          },
          "metadata": {},
          "output_type": "display_data"
        }
      ],
      "source": [
        "df_hotels.city.value_counts().plot(kind=\"bar\")"
      ]
    },
    {
      "cell_type": "code",
      "execution_count": null,
      "id": "841d9dc3-4a7e-4487-9579-8a0387fcbd6a",
      "metadata": {
        "id": "841d9dc3-4a7e-4487-9579-8a0387fcbd6a",
        "outputId": "a1f66596-2096-4bba-a167-b19e12744763"
      },
      "outputs": [
        {
          "data": {
            "text/plain": [
              "category\n",
              "Luxury      16\n",
              "Business     9\n",
              "Name: count, dtype: int64"
            ]
          },
          "execution_count": 13,
          "metadata": {},
          "output_type": "execute_result"
        }
      ],
      "source": [
        "#category_wise_count\n",
        "df_hotels.category.value_counts()"
      ]
    },
    {
      "cell_type": "markdown",
      "id": "beba93a4-e31a-49e9-8453-e169c1c46730",
      "metadata": {
        "id": "beba93a4-e31a-49e9-8453-e169c1c46730"
      },
      "source": [
        "- I has no duplicate values\n",
        "- AtliQ hotels has __25 properties__ across __4 cities__ viz. Mumbai, Hyderabad, Bangalore & Delhi\n",
        "- It has __16 luxury__ and __9 business__ properties."
      ]
    },
    {
      "cell_type": "markdown",
      "id": "f8448acb-1999-4e71-b7eb-9fee57564ea3",
      "metadata": {
        "id": "f8448acb-1999-4e71-b7eb-9fee57564ea3"
      },
      "source": [
        "## 1.4 Explore dim_rooms table"
      ]
    },
    {
      "cell_type": "code",
      "execution_count": null,
      "id": "cecfceff-93c5-4b59-bd7e-f6d570eca0f7",
      "metadata": {
        "id": "cecfceff-93c5-4b59-bd7e-f6d570eca0f7",
        "outputId": "ef0c648c-5763-40a1-f100-6f077aaefabe"
      },
      "outputs": [
        {
          "data": {
            "text/html": [
              "<div>\n",
              "<style scoped>\n",
              "    .dataframe tbody tr th:only-of-type {\n",
              "        vertical-align: middle;\n",
              "    }\n",
              "\n",
              "    .dataframe tbody tr th {\n",
              "        vertical-align: top;\n",
              "    }\n",
              "\n",
              "    .dataframe thead th {\n",
              "        text-align: right;\n",
              "    }\n",
              "</style>\n",
              "<table border=\"1\" class=\"dataframe\">\n",
              "  <thead>\n",
              "    <tr style=\"text-align: right;\">\n",
              "      <th></th>\n",
              "      <th>room_id</th>\n",
              "      <th>room_class</th>\n",
              "    </tr>\n",
              "  </thead>\n",
              "  <tbody>\n",
              "    <tr>\n",
              "      <th>0</th>\n",
              "      <td>RT1</td>\n",
              "      <td>Standard</td>\n",
              "    </tr>\n",
              "    <tr>\n",
              "      <th>1</th>\n",
              "      <td>RT2</td>\n",
              "      <td>Elite</td>\n",
              "    </tr>\n",
              "    <tr>\n",
              "      <th>2</th>\n",
              "      <td>RT3</td>\n",
              "      <td>Premium</td>\n",
              "    </tr>\n",
              "    <tr>\n",
              "      <th>3</th>\n",
              "      <td>RT4</td>\n",
              "      <td>Presidential</td>\n",
              "    </tr>\n",
              "  </tbody>\n",
              "</table>\n",
              "</div>"
            ],
            "text/plain": [
              "  room_id    room_class\n",
              "0     RT1      Standard\n",
              "1     RT2         Elite\n",
              "2     RT3       Premium\n",
              "3     RT4  Presidential"
            ]
          },
          "execution_count": 14,
          "metadata": {},
          "output_type": "execute_result"
        }
      ],
      "source": [
        "df_rooms"
      ]
    },
    {
      "cell_type": "markdown",
      "id": "5bf5b196-ee32-4668-b7e6-14977bcc0fb1",
      "metadata": {
        "id": "5bf5b196-ee32-4668-b7e6-14977bcc0fb1"
      },
      "source": [
        "- There are __4 types__ of rooms in AtliQ Hotels"
      ]
    },
    {
      "cell_type": "markdown",
      "id": "f717bfa7-920b-487c-8800-76ad596a54f7",
      "metadata": {
        "id": "f717bfa7-920b-487c-8800-76ad596a54f7"
      },
      "source": [
        "### 1.5 Explore fact_aggregated_bookings data"
      ]
    },
    {
      "cell_type": "code",
      "execution_count": null,
      "id": "5bcca4f8-2e1a-4191-9bd0-8ad1088f696c",
      "metadata": {
        "id": "5bcca4f8-2e1a-4191-9bd0-8ad1088f696c",
        "outputId": "7adac7a6-a0e2-4588-f42e-e5eb24fcfa08"
      },
      "outputs": [
        {
          "data": {
            "text/html": [
              "<div>\n",
              "<style scoped>\n",
              "    .dataframe tbody tr th:only-of-type {\n",
              "        vertical-align: middle;\n",
              "    }\n",
              "\n",
              "    .dataframe tbody tr th {\n",
              "        vertical-align: top;\n",
              "    }\n",
              "\n",
              "    .dataframe thead th {\n",
              "        text-align: right;\n",
              "    }\n",
              "</style>\n",
              "<table border=\"1\" class=\"dataframe\">\n",
              "  <thead>\n",
              "    <tr style=\"text-align: right;\">\n",
              "      <th></th>\n",
              "      <th>property_id</th>\n",
              "      <th>check_in_date</th>\n",
              "      <th>room_category</th>\n",
              "      <th>successful_bookings</th>\n",
              "      <th>capacity</th>\n",
              "    </tr>\n",
              "  </thead>\n",
              "  <tbody>\n",
              "    <tr>\n",
              "      <th>0</th>\n",
              "      <td>16559</td>\n",
              "      <td>1-May-22</td>\n",
              "      <td>RT1</td>\n",
              "      <td>25</td>\n",
              "      <td>30.0</td>\n",
              "    </tr>\n",
              "    <tr>\n",
              "      <th>1</th>\n",
              "      <td>19562</td>\n",
              "      <td>1-May-22</td>\n",
              "      <td>RT1</td>\n",
              "      <td>28</td>\n",
              "      <td>30.0</td>\n",
              "    </tr>\n",
              "    <tr>\n",
              "      <th>2</th>\n",
              "      <td>19563</td>\n",
              "      <td>1-May-22</td>\n",
              "      <td>RT1</td>\n",
              "      <td>23</td>\n",
              "      <td>30.0</td>\n",
              "    </tr>\n",
              "    <tr>\n",
              "      <th>3</th>\n",
              "      <td>17558</td>\n",
              "      <td>1-May-22</td>\n",
              "      <td>RT1</td>\n",
              "      <td>30</td>\n",
              "      <td>19.0</td>\n",
              "    </tr>\n",
              "    <tr>\n",
              "      <th>4</th>\n",
              "      <td>16558</td>\n",
              "      <td>1-May-22</td>\n",
              "      <td>RT1</td>\n",
              "      <td>18</td>\n",
              "      <td>19.0</td>\n",
              "    </tr>\n",
              "    <tr>\n",
              "      <th>...</th>\n",
              "      <td>...</td>\n",
              "      <td>...</td>\n",
              "      <td>...</td>\n",
              "      <td>...</td>\n",
              "      <td>...</td>\n",
              "    </tr>\n",
              "    <tr>\n",
              "      <th>9195</th>\n",
              "      <td>16563</td>\n",
              "      <td>31-Jul-22</td>\n",
              "      <td>RT4</td>\n",
              "      <td>13</td>\n",
              "      <td>18.0</td>\n",
              "    </tr>\n",
              "    <tr>\n",
              "      <th>9196</th>\n",
              "      <td>16559</td>\n",
              "      <td>31-Jul-22</td>\n",
              "      <td>RT4</td>\n",
              "      <td>13</td>\n",
              "      <td>18.0</td>\n",
              "    </tr>\n",
              "    <tr>\n",
              "      <th>9197</th>\n",
              "      <td>17558</td>\n",
              "      <td>31-Jul-22</td>\n",
              "      <td>RT4</td>\n",
              "      <td>3</td>\n",
              "      <td>6.0</td>\n",
              "    </tr>\n",
              "    <tr>\n",
              "      <th>9198</th>\n",
              "      <td>19563</td>\n",
              "      <td>31-Jul-22</td>\n",
              "      <td>RT4</td>\n",
              "      <td>3</td>\n",
              "      <td>6.0</td>\n",
              "    </tr>\n",
              "    <tr>\n",
              "      <th>9199</th>\n",
              "      <td>17561</td>\n",
              "      <td>31-Jul-22</td>\n",
              "      <td>RT4</td>\n",
              "      <td>3</td>\n",
              "      <td>4.0</td>\n",
              "    </tr>\n",
              "  </tbody>\n",
              "</table>\n",
              "<p>9200 rows × 5 columns</p>\n",
              "</div>"
            ],
            "text/plain": [
              "      property_id check_in_date room_category  successful_bookings  capacity\n",
              "0           16559      1-May-22           RT1                   25      30.0\n",
              "1           19562      1-May-22           RT1                   28      30.0\n",
              "2           19563      1-May-22           RT1                   23      30.0\n",
              "3           17558      1-May-22           RT1                   30      19.0\n",
              "4           16558      1-May-22           RT1                   18      19.0\n",
              "...           ...           ...           ...                  ...       ...\n",
              "9195        16563     31-Jul-22           RT4                   13      18.0\n",
              "9196        16559     31-Jul-22           RT4                   13      18.0\n",
              "9197        17558     31-Jul-22           RT4                    3       6.0\n",
              "9198        19563     31-Jul-22           RT4                    3       6.0\n",
              "9199        17561     31-Jul-22           RT4                    3       4.0\n",
              "\n",
              "[9200 rows x 5 columns]"
            ]
          },
          "execution_count": 15,
          "metadata": {},
          "output_type": "execute_result"
        }
      ],
      "source": [
        "df_agg_bookings"
      ]
    },
    {
      "cell_type": "code",
      "execution_count": null,
      "id": "0af17b51-0760-4a10-87d8-3eaef9f9947b",
      "metadata": {
        "id": "0af17b51-0760-4a10-87d8-3eaef9f9947b",
        "outputId": "41f07c07-a54c-4a3c-e04f-38b138752bfd"
      },
      "outputs": [
        {
          "name": "stdout",
          "output_type": "stream",
          "text": [
            "<class 'pandas.core.frame.DataFrame'>\n",
            "RangeIndex: 9200 entries, 0 to 9199\n",
            "Data columns (total 5 columns):\n",
            " #   Column               Non-Null Count  Dtype  \n",
            "---  ------               --------------  -----  \n",
            " 0   property_id          9200 non-null   int64  \n",
            " 1   check_in_date        9200 non-null   object \n",
            " 2   room_category        9200 non-null   object \n",
            " 3   successful_bookings  9200 non-null   int64  \n",
            " 4   capacity             9198 non-null   float64\n",
            "dtypes: float64(1), int64(2), object(2)\n",
            "memory usage: 359.5+ KB\n"
          ]
        }
      ],
      "source": [
        "df_agg_bookings.info()"
      ]
    },
    {
      "cell_type": "markdown",
      "id": "7b3425b3-f278-4440-9cfa-dc68f4ff2159",
      "metadata": {
        "id": "7b3425b3-f278-4440-9cfa-dc68f4ff2159"
      },
      "source": [
        "- capacity column has two null values"
      ]
    },
    {
      "cell_type": "code",
      "execution_count": null,
      "id": "c0a4a945-cbea-47dd-a3bc-9c79e9a8874e",
      "metadata": {
        "id": "c0a4a945-cbea-47dd-a3bc-9c79e9a8874e",
        "outputId": "9fecf403-0269-4c78-e84a-47281e7d4682"
      },
      "outputs": [
        {
          "data": {
            "text/html": [
              "<div>\n",
              "<style scoped>\n",
              "    .dataframe tbody tr th:only-of-type {\n",
              "        vertical-align: middle;\n",
              "    }\n",
              "\n",
              "    .dataframe tbody tr th {\n",
              "        vertical-align: top;\n",
              "    }\n",
              "\n",
              "    .dataframe thead th {\n",
              "        text-align: right;\n",
              "    }\n",
              "</style>\n",
              "<table border=\"1\" class=\"dataframe\">\n",
              "  <thead>\n",
              "    <tr style=\"text-align: right;\">\n",
              "      <th></th>\n",
              "      <th>property_id</th>\n",
              "      <th>successful_bookings</th>\n",
              "      <th>capacity</th>\n",
              "    </tr>\n",
              "  </thead>\n",
              "  <tbody>\n",
              "    <tr>\n",
              "      <th>count</th>\n",
              "      <td>9200.000000</td>\n",
              "      <td>9200.000000</td>\n",
              "      <td>9198.000000</td>\n",
              "    </tr>\n",
              "    <tr>\n",
              "      <th>mean</th>\n",
              "      <td>18040.640000</td>\n",
              "      <td>14.655761</td>\n",
              "      <td>25.280496</td>\n",
              "    </tr>\n",
              "    <tr>\n",
              "      <th>std</th>\n",
              "      <td>1099.818325</td>\n",
              "      <td>7.736170</td>\n",
              "      <td>11.442080</td>\n",
              "    </tr>\n",
              "    <tr>\n",
              "      <th>min</th>\n",
              "      <td>16558.000000</td>\n",
              "      <td>1.000000</td>\n",
              "      <td>3.000000</td>\n",
              "    </tr>\n",
              "    <tr>\n",
              "      <th>25%</th>\n",
              "      <td>17558.000000</td>\n",
              "      <td>9.000000</td>\n",
              "      <td>18.000000</td>\n",
              "    </tr>\n",
              "    <tr>\n",
              "      <th>50%</th>\n",
              "      <td>17564.000000</td>\n",
              "      <td>14.000000</td>\n",
              "      <td>25.000000</td>\n",
              "    </tr>\n",
              "    <tr>\n",
              "      <th>75%</th>\n",
              "      <td>18563.000000</td>\n",
              "      <td>19.000000</td>\n",
              "      <td>34.000000</td>\n",
              "    </tr>\n",
              "    <tr>\n",
              "      <th>max</th>\n",
              "      <td>19563.000000</td>\n",
              "      <td>123.000000</td>\n",
              "      <td>50.000000</td>\n",
              "    </tr>\n",
              "  </tbody>\n",
              "</table>\n",
              "</div>"
            ],
            "text/plain": [
              "        property_id  successful_bookings     capacity\n",
              "count   9200.000000          9200.000000  9198.000000\n",
              "mean   18040.640000            14.655761    25.280496\n",
              "std     1099.818325             7.736170    11.442080\n",
              "min    16558.000000             1.000000     3.000000\n",
              "25%    17558.000000             9.000000    18.000000\n",
              "50%    17564.000000            14.000000    25.000000\n",
              "75%    18563.000000            19.000000    34.000000\n",
              "max    19563.000000           123.000000    50.000000"
            ]
          },
          "execution_count": 17,
          "metadata": {},
          "output_type": "execute_result"
        }
      ],
      "source": [
        "df_agg_bookings.describe()"
      ]
    },
    {
      "cell_type": "markdown",
      "id": "3e85e504-4481-4399-8ff6-662dc4e6f26f",
      "metadata": {
        "id": "3e85e504-4481-4399-8ff6-662dc4e6f26f"
      },
      "source": [
        "#### Q 1. Find out unique property ids in aggregate bookings dataset"
      ]
    },
    {
      "cell_type": "code",
      "execution_count": null,
      "id": "5999a51d-97e4-4b61-99cd-2df497e29eba",
      "metadata": {
        "id": "5999a51d-97e4-4b61-99cd-2df497e29eba",
        "outputId": "c6e2816f-d9cc-446b-e516-3b05f74cb3a3"
      },
      "outputs": [
        {
          "data": {
            "text/plain": [
              "(array([16559, 19562, 19563, 17558, 16558, 17560, 19558, 19560, 17561,\n",
              "        16560, 16561, 16562, 16563, 17559, 17562, 17563, 18558, 18559,\n",
              "        18561, 18562, 18563, 19559, 19561, 17564, 18560]),\n",
              " 25)"
            ]
          },
          "execution_count": 18,
          "metadata": {},
          "output_type": "execute_result"
        }
      ],
      "source": [
        "df_agg_bookings.property_id.unique(), df_agg_bookings.property_id.nunique()"
      ]
    },
    {
      "cell_type": "markdown",
      "id": "6cb15a20-ed14-4ead-8005-2a4e43d526dd",
      "metadata": {
        "id": "6cb15a20-ed14-4ead-8005-2a4e43d526dd"
      },
      "source": [
        "#### Q 2. Find out total bookings per property_id"
      ]
    },
    {
      "cell_type": "code",
      "execution_count": null,
      "id": "e5c830b8-fcf5-48ab-83ad-02564de22b7e",
      "metadata": {
        "id": "e5c830b8-fcf5-48ab-83ad-02564de22b7e",
        "outputId": "7260f828-4ffc-40d7-81fe-bfeaec10f930"
      },
      "outputs": [
        {
          "data": {
            "text/plain": [
              "property_id\n",
              "16558    3153\n",
              "16559    7338\n",
              "16560    4693\n",
              "16561    4418\n",
              "16562    4820\n",
              "16563    7211\n",
              "17558    5053\n",
              "17559    6142\n",
              "17560    6013\n",
              "17561    5183\n",
              "17562    3424\n",
              "17563    6337\n",
              "17564    3982\n",
              "18558    4475\n",
              "18559    5256\n",
              "18560    6638\n",
              "18561    6458\n",
              "18562    7333\n",
              "18563    4737\n",
              "19558    4400\n",
              "19559    4729\n",
              "19560    6079\n",
              "19561    5736\n",
              "19562    5812\n",
              "19563    5413\n",
              "Name: successful_bookings, dtype: int64"
            ]
          },
          "execution_count": 19,
          "metadata": {},
          "output_type": "execute_result"
        }
      ],
      "source": [
        "df_agg_bookings.groupby(\"property_id\").successful_bookings.sum()"
      ]
    },
    {
      "cell_type": "markdown",
      "id": "065d73cf-a6c0-43ae-a9e6-f14c6f69cb54",
      "metadata": {
        "id": "065d73cf-a6c0-43ae-a9e6-f14c6f69cb54"
      },
      "source": [
        "#### Q 3. Find out days on which bookings are greater than capacity"
      ]
    },
    {
      "cell_type": "code",
      "execution_count": null,
      "id": "adc30a3c-c902-47cc-afc6-7c70591e3316",
      "metadata": {
        "id": "adc30a3c-c902-47cc-afc6-7c70591e3316",
        "outputId": "a967a96f-e8ca-4818-d4a8-5d1bafe298f9"
      },
      "outputs": [
        {
          "data": {
            "text/plain": [
              "3        1-May-22\n",
              "12       1-May-22\n",
              "4136    11-Jun-22\n",
              "6209     2-Jul-22\n",
              "8522    25-Jul-22\n",
              "9194    31-Jul-22\n",
              "Name: check_in_date, dtype: object"
            ]
          },
          "execution_count": 20,
          "metadata": {},
          "output_type": "execute_result"
        }
      ],
      "source": [
        "df_agg_bookings[df_agg_bookings.successful_bookings > df_agg_bookings.capacity].check_in_date"
      ]
    },
    {
      "cell_type": "markdown",
      "id": "df6ff2a4-1abd-4019-8a3e-7f75498c61be",
      "metadata": {
        "id": "df6ff2a4-1abd-4019-8a3e-7f75498c61be"
      },
      "source": [
        "#### Q 4. Find out properties that have highest capacity"
      ]
    },
    {
      "cell_type": "code",
      "execution_count": null,
      "id": "0617a396-3759-4e22-8c05-9990e66ed29b",
      "metadata": {
        "id": "0617a396-3759-4e22-8c05-9990e66ed29b",
        "outputId": "14607e91-0c6f-4ad9-fb5d-8f37c658aed4"
      },
      "outputs": [
        {
          "data": {
            "text/plain": [
              "property_id\n",
              "17558    50.0\n",
              "Name: capacity, dtype: float64"
            ]
          },
          "execution_count": 21,
          "metadata": {},
          "output_type": "execute_result"
        }
      ],
      "source": [
        "df_agg_bookings[df_agg_bookings.capacity == df_agg_bookings.capacity.max()].groupby(\"property_id\")[\"capacity\"].max()"
      ]
    },
    {
      "cell_type": "markdown",
      "id": "bc522903-84a8-44ab-9c27-7014c67863ea",
      "metadata": {
        "id": "bc522903-84a8-44ab-9c27-7014c67863ea"
      },
      "source": [
        "### 1.6 Explore fact_bookings data"
      ]
    },
    {
      "cell_type": "code",
      "execution_count": null,
      "id": "9ce0ef95-6ed1-4250-a84a-9ce823bf74ad",
      "metadata": {
        "id": "9ce0ef95-6ed1-4250-a84a-9ce823bf74ad",
        "outputId": "ae5c5c03-2f8f-4dac-ab94-1449129ca4e9"
      },
      "outputs": [
        {
          "data": {
            "text/html": [
              "<div>\n",
              "<style scoped>\n",
              "    .dataframe tbody tr th:only-of-type {\n",
              "        vertical-align: middle;\n",
              "    }\n",
              "\n",
              "    .dataframe tbody tr th {\n",
              "        vertical-align: top;\n",
              "    }\n",
              "\n",
              "    .dataframe thead th {\n",
              "        text-align: right;\n",
              "    }\n",
              "</style>\n",
              "<table border=\"1\" class=\"dataframe\">\n",
              "  <thead>\n",
              "    <tr style=\"text-align: right;\">\n",
              "      <th></th>\n",
              "      <th>booking_id</th>\n",
              "      <th>property_id</th>\n",
              "      <th>booking_date</th>\n",
              "      <th>check_in_date</th>\n",
              "      <th>checkout_date</th>\n",
              "      <th>no_guests</th>\n",
              "      <th>room_category</th>\n",
              "      <th>booking_platform</th>\n",
              "      <th>ratings_given</th>\n",
              "      <th>booking_status</th>\n",
              "      <th>revenue_generated</th>\n",
              "      <th>revenue_realized</th>\n",
              "    </tr>\n",
              "  </thead>\n",
              "  <tbody>\n",
              "    <tr>\n",
              "      <th>0</th>\n",
              "      <td>May012216558RT11</td>\n",
              "      <td>16558</td>\n",
              "      <td>27-04-22</td>\n",
              "      <td>1/5/2022</td>\n",
              "      <td>2/5/2022</td>\n",
              "      <td>-3.0</td>\n",
              "      <td>RT1</td>\n",
              "      <td>direct online</td>\n",
              "      <td>1.0</td>\n",
              "      <td>Checked Out</td>\n",
              "      <td>10010</td>\n",
              "      <td>10010</td>\n",
              "    </tr>\n",
              "    <tr>\n",
              "      <th>1</th>\n",
              "      <td>May012216558RT12</td>\n",
              "      <td>16558</td>\n",
              "      <td>30-04-22</td>\n",
              "      <td>1/5/2022</td>\n",
              "      <td>2/5/2022</td>\n",
              "      <td>2.0</td>\n",
              "      <td>RT1</td>\n",
              "      <td>others</td>\n",
              "      <td>NaN</td>\n",
              "      <td>Cancelled</td>\n",
              "      <td>9100</td>\n",
              "      <td>3640</td>\n",
              "    </tr>\n",
              "    <tr>\n",
              "      <th>2</th>\n",
              "      <td>May012216558RT13</td>\n",
              "      <td>16558</td>\n",
              "      <td>28-04-22</td>\n",
              "      <td>1/5/2022</td>\n",
              "      <td>4/5/2022</td>\n",
              "      <td>2.0</td>\n",
              "      <td>RT1</td>\n",
              "      <td>logtrip</td>\n",
              "      <td>5.0</td>\n",
              "      <td>Checked Out</td>\n",
              "      <td>9100000</td>\n",
              "      <td>9100</td>\n",
              "    </tr>\n",
              "    <tr>\n",
              "      <th>3</th>\n",
              "      <td>May012216558RT14</td>\n",
              "      <td>16558</td>\n",
              "      <td>28-04-22</td>\n",
              "      <td>1/5/2022</td>\n",
              "      <td>2/5/2022</td>\n",
              "      <td>-2.0</td>\n",
              "      <td>RT1</td>\n",
              "      <td>others</td>\n",
              "      <td>NaN</td>\n",
              "      <td>Cancelled</td>\n",
              "      <td>9100</td>\n",
              "      <td>3640</td>\n",
              "    </tr>\n",
              "    <tr>\n",
              "      <th>4</th>\n",
              "      <td>May012216558RT15</td>\n",
              "      <td>16558</td>\n",
              "      <td>27-04-22</td>\n",
              "      <td>1/5/2022</td>\n",
              "      <td>2/5/2022</td>\n",
              "      <td>4.0</td>\n",
              "      <td>RT1</td>\n",
              "      <td>direct online</td>\n",
              "      <td>5.0</td>\n",
              "      <td>Checked Out</td>\n",
              "      <td>10920</td>\n",
              "      <td>10920</td>\n",
              "    </tr>\n",
              "    <tr>\n",
              "      <th>...</th>\n",
              "      <td>...</td>\n",
              "      <td>...</td>\n",
              "      <td>...</td>\n",
              "      <td>...</td>\n",
              "      <td>...</td>\n",
              "      <td>...</td>\n",
              "      <td>...</td>\n",
              "      <td>...</td>\n",
              "      <td>...</td>\n",
              "      <td>...</td>\n",
              "      <td>...</td>\n",
              "      <td>...</td>\n",
              "    </tr>\n",
              "    <tr>\n",
              "      <th>134585</th>\n",
              "      <td>Jul312217564RT46</td>\n",
              "      <td>17564</td>\n",
              "      <td>29-07-22</td>\n",
              "      <td>31-07-22</td>\n",
              "      <td>3/8/2022</td>\n",
              "      <td>1.0</td>\n",
              "      <td>RT4</td>\n",
              "      <td>makeyourtrip</td>\n",
              "      <td>2.0</td>\n",
              "      <td>Checked Out</td>\n",
              "      <td>32300</td>\n",
              "      <td>32300</td>\n",
              "    </tr>\n",
              "    <tr>\n",
              "      <th>134586</th>\n",
              "      <td>Jul312217564RT47</td>\n",
              "      <td>17564</td>\n",
              "      <td>30-07-22</td>\n",
              "      <td>31-07-22</td>\n",
              "      <td>1/8/2022</td>\n",
              "      <td>-4.0</td>\n",
              "      <td>RT4</td>\n",
              "      <td>logtrip</td>\n",
              "      <td>2.0</td>\n",
              "      <td>Checked Out</td>\n",
              "      <td>38760</td>\n",
              "      <td>38760</td>\n",
              "    </tr>\n",
              "    <tr>\n",
              "      <th>134587</th>\n",
              "      <td>Jul312217564RT48</td>\n",
              "      <td>17564</td>\n",
              "      <td>30-07-22</td>\n",
              "      <td>31-07-22</td>\n",
              "      <td>2/8/2022</td>\n",
              "      <td>1.0</td>\n",
              "      <td>RT4</td>\n",
              "      <td>tripster</td>\n",
              "      <td>NaN</td>\n",
              "      <td>Cancelled</td>\n",
              "      <td>32300</td>\n",
              "      <td>12920</td>\n",
              "    </tr>\n",
              "    <tr>\n",
              "      <th>134588</th>\n",
              "      <td>Jul312217564RT49</td>\n",
              "      <td>17564</td>\n",
              "      <td>29-07-22</td>\n",
              "      <td>31-07-22</td>\n",
              "      <td>1/8/2022</td>\n",
              "      <td>2.0</td>\n",
              "      <td>RT4</td>\n",
              "      <td>logtrip</td>\n",
              "      <td>2.0</td>\n",
              "      <td>Checked Out</td>\n",
              "      <td>32300</td>\n",
              "      <td>32300</td>\n",
              "    </tr>\n",
              "    <tr>\n",
              "      <th>134589</th>\n",
              "      <td>Jul312217564RT410</td>\n",
              "      <td>17564</td>\n",
              "      <td>31-07-22</td>\n",
              "      <td>31-07-22</td>\n",
              "      <td>1/8/2022</td>\n",
              "      <td>2.0</td>\n",
              "      <td>RT4</td>\n",
              "      <td>makeyourtrip</td>\n",
              "      <td>NaN</td>\n",
              "      <td>Cancelled</td>\n",
              "      <td>32300</td>\n",
              "      <td>12920</td>\n",
              "    </tr>\n",
              "  </tbody>\n",
              "</table>\n",
              "<p>134590 rows × 12 columns</p>\n",
              "</div>"
            ],
            "text/plain": [
              "               booking_id  property_id booking_date check_in_date  \\\n",
              "0        May012216558RT11        16558     27-04-22      1/5/2022   \n",
              "1        May012216558RT12        16558     30-04-22      1/5/2022   \n",
              "2        May012216558RT13        16558     28-04-22      1/5/2022   \n",
              "3        May012216558RT14        16558     28-04-22      1/5/2022   \n",
              "4        May012216558RT15        16558     27-04-22      1/5/2022   \n",
              "...                   ...          ...          ...           ...   \n",
              "134585   Jul312217564RT46        17564     29-07-22      31-07-22   \n",
              "134586   Jul312217564RT47        17564     30-07-22      31-07-22   \n",
              "134587   Jul312217564RT48        17564     30-07-22      31-07-22   \n",
              "134588   Jul312217564RT49        17564     29-07-22      31-07-22   \n",
              "134589  Jul312217564RT410        17564     31-07-22      31-07-22   \n",
              "\n",
              "       checkout_date  no_guests room_category booking_platform  ratings_given  \\\n",
              "0           2/5/2022       -3.0           RT1    direct online            1.0   \n",
              "1           2/5/2022        2.0           RT1           others            NaN   \n",
              "2           4/5/2022        2.0           RT1          logtrip            5.0   \n",
              "3           2/5/2022       -2.0           RT1           others            NaN   \n",
              "4           2/5/2022        4.0           RT1    direct online            5.0   \n",
              "...              ...        ...           ...              ...            ...   \n",
              "134585      3/8/2022        1.0           RT4     makeyourtrip            2.0   \n",
              "134586      1/8/2022       -4.0           RT4          logtrip            2.0   \n",
              "134587      2/8/2022        1.0           RT4         tripster            NaN   \n",
              "134588      1/8/2022        2.0           RT4          logtrip            2.0   \n",
              "134589      1/8/2022        2.0           RT4     makeyourtrip            NaN   \n",
              "\n",
              "       booking_status  revenue_generated  revenue_realized  \n",
              "0         Checked Out              10010             10010  \n",
              "1           Cancelled               9100              3640  \n",
              "2         Checked Out            9100000              9100  \n",
              "3           Cancelled               9100              3640  \n",
              "4         Checked Out              10920             10920  \n",
              "...               ...                ...               ...  \n",
              "134585    Checked Out              32300             32300  \n",
              "134586    Checked Out              38760             38760  \n",
              "134587      Cancelled              32300             12920  \n",
              "134588    Checked Out              32300             32300  \n",
              "134589      Cancelled              32300             12920  \n",
              "\n",
              "[134590 rows x 12 columns]"
            ]
          },
          "execution_count": 22,
          "metadata": {},
          "output_type": "execute_result"
        }
      ],
      "source": [
        "df_bookings"
      ]
    },
    {
      "cell_type": "code",
      "execution_count": null,
      "id": "886a86dc-b9f2-4614-b701-a614dcfd9bc9",
      "metadata": {
        "id": "886a86dc-b9f2-4614-b701-a614dcfd9bc9",
        "outputId": "e58a17c2-e75b-4e40-de3c-d22a96ee8e8a"
      },
      "outputs": [
        {
          "data": {
            "text/html": [
              "<div>\n",
              "<style scoped>\n",
              "    .dataframe tbody tr th:only-of-type {\n",
              "        vertical-align: middle;\n",
              "    }\n",
              "\n",
              "    .dataframe tbody tr th {\n",
              "        vertical-align: top;\n",
              "    }\n",
              "\n",
              "    .dataframe thead th {\n",
              "        text-align: right;\n",
              "    }\n",
              "</style>\n",
              "<table border=\"1\" class=\"dataframe\">\n",
              "  <thead>\n",
              "    <tr style=\"text-align: right;\">\n",
              "      <th></th>\n",
              "      <th>property_id</th>\n",
              "      <th>no_guests</th>\n",
              "      <th>ratings_given</th>\n",
              "      <th>revenue_generated</th>\n",
              "      <th>revenue_realized</th>\n",
              "    </tr>\n",
              "  </thead>\n",
              "  <tbody>\n",
              "    <tr>\n",
              "      <th>count</th>\n",
              "      <td>134590.000000</td>\n",
              "      <td>134587.000000</td>\n",
              "      <td>56683.000000</td>\n",
              "      <td>1.345900e+05</td>\n",
              "      <td>134590.000000</td>\n",
              "    </tr>\n",
              "    <tr>\n",
              "      <th>mean</th>\n",
              "      <td>18061.113493</td>\n",
              "      <td>2.036170</td>\n",
              "      <td>3.619004</td>\n",
              "      <td>1.537805e+04</td>\n",
              "      <td>12696.123256</td>\n",
              "    </tr>\n",
              "    <tr>\n",
              "      <th>std</th>\n",
              "      <td>1093.055847</td>\n",
              "      <td>1.034885</td>\n",
              "      <td>1.235009</td>\n",
              "      <td>9.303604e+04</td>\n",
              "      <td>6928.108124</td>\n",
              "    </tr>\n",
              "    <tr>\n",
              "      <th>min</th>\n",
              "      <td>16558.000000</td>\n",
              "      <td>-17.000000</td>\n",
              "      <td>1.000000</td>\n",
              "      <td>6.500000e+03</td>\n",
              "      <td>2600.000000</td>\n",
              "    </tr>\n",
              "    <tr>\n",
              "      <th>25%</th>\n",
              "      <td>17558.000000</td>\n",
              "      <td>1.000000</td>\n",
              "      <td>3.000000</td>\n",
              "      <td>9.900000e+03</td>\n",
              "      <td>7600.000000</td>\n",
              "    </tr>\n",
              "    <tr>\n",
              "      <th>50%</th>\n",
              "      <td>17564.000000</td>\n",
              "      <td>2.000000</td>\n",
              "      <td>4.000000</td>\n",
              "      <td>1.350000e+04</td>\n",
              "      <td>11700.000000</td>\n",
              "    </tr>\n",
              "    <tr>\n",
              "      <th>75%</th>\n",
              "      <td>18563.000000</td>\n",
              "      <td>2.000000</td>\n",
              "      <td>5.000000</td>\n",
              "      <td>1.800000e+04</td>\n",
              "      <td>15300.000000</td>\n",
              "    </tr>\n",
              "    <tr>\n",
              "      <th>max</th>\n",
              "      <td>19563.000000</td>\n",
              "      <td>6.000000</td>\n",
              "      <td>5.000000</td>\n",
              "      <td>2.856000e+07</td>\n",
              "      <td>45220.000000</td>\n",
              "    </tr>\n",
              "  </tbody>\n",
              "</table>\n",
              "</div>"
            ],
            "text/plain": [
              "         property_id      no_guests  ratings_given  revenue_generated  \\\n",
              "count  134590.000000  134587.000000   56683.000000       1.345900e+05   \n",
              "mean    18061.113493       2.036170       3.619004       1.537805e+04   \n",
              "std      1093.055847       1.034885       1.235009       9.303604e+04   \n",
              "min     16558.000000     -17.000000       1.000000       6.500000e+03   \n",
              "25%     17558.000000       1.000000       3.000000       9.900000e+03   \n",
              "50%     17564.000000       2.000000       4.000000       1.350000e+04   \n",
              "75%     18563.000000       2.000000       5.000000       1.800000e+04   \n",
              "max     19563.000000       6.000000       5.000000       2.856000e+07   \n",
              "\n",
              "       revenue_realized  \n",
              "count     134590.000000  \n",
              "mean       12696.123256  \n",
              "std         6928.108124  \n",
              "min         2600.000000  \n",
              "25%         7600.000000  \n",
              "50%        11700.000000  \n",
              "75%        15300.000000  \n",
              "max        45220.000000  "
            ]
          },
          "execution_count": 23,
          "metadata": {},
          "output_type": "execute_result"
        }
      ],
      "source": [
        "df_bookings.describe()"
      ]
    },
    {
      "cell_type": "code",
      "execution_count": null,
      "id": "d58a49e2-5345-48b5-bfb3-46c2ef96c119",
      "metadata": {
        "id": "d58a49e2-5345-48b5-bfb3-46c2ef96c119",
        "outputId": "7121ea8c-73b1-4c6e-d73e-0b9e54830728"
      },
      "outputs": [
        {
          "name": "stdout",
          "output_type": "stream",
          "text": [
            "<class 'pandas.core.frame.DataFrame'>\n",
            "RangeIndex: 134590 entries, 0 to 134589\n",
            "Data columns (total 12 columns):\n",
            " #   Column             Non-Null Count   Dtype  \n",
            "---  ------             --------------   -----  \n",
            " 0   booking_id         134590 non-null  object \n",
            " 1   property_id        134590 non-null  int64  \n",
            " 2   booking_date       134590 non-null  object \n",
            " 3   check_in_date      134590 non-null  object \n",
            " 4   checkout_date      134590 non-null  object \n",
            " 5   no_guests          134587 non-null  float64\n",
            " 6   room_category      134590 non-null  object \n",
            " 7   booking_platform   134590 non-null  object \n",
            " 8   ratings_given      56683 non-null   float64\n",
            " 9   booking_status     134590 non-null  object \n",
            " 10  revenue_generated  134590 non-null  int64  \n",
            " 11  revenue_realized   134590 non-null  int64  \n",
            "dtypes: float64(2), int64(3), object(7)\n",
            "memory usage: 12.3+ MB\n"
          ]
        }
      ],
      "source": [
        "df_bookings.info()"
      ]
    },
    {
      "cell_type": "code",
      "execution_count": null,
      "id": "73f8ed3a-9a87-4f4f-b975-c9638b6efb53",
      "metadata": {
        "id": "73f8ed3a-9a87-4f4f-b975-c9638b6efb53",
        "outputId": "7c00d463-49c9-4689-c071-2a104463ee64"
      },
      "outputs": [
        {
          "data": {
            "text/plain": [
              "np.int64(0)"
            ]
          },
          "execution_count": 25,
          "metadata": {},
          "output_type": "execute_result"
        }
      ],
      "source": [
        "df_bookings.duplicated().sum()"
      ]
    },
    {
      "cell_type": "code",
      "execution_count": null,
      "id": "25b6039d-4ae8-4e7e-bf9b-435a77e8ae1e",
      "metadata": {
        "id": "25b6039d-4ae8-4e7e-bf9b-435a77e8ae1e",
        "outputId": "21810015-6cbe-41fc-b1be-c6a1d9447190"
      },
      "outputs": [
        {
          "data": {
            "text/plain": [
              "booking_id               0\n",
              "property_id              0\n",
              "booking_date             0\n",
              "check_in_date            0\n",
              "checkout_date            0\n",
              "no_guests                3\n",
              "room_category            0\n",
              "booking_platform         0\n",
              "ratings_given        77907\n",
              "booking_status           0\n",
              "revenue_generated        0\n",
              "revenue_realized         0\n",
              "dtype: int64"
            ]
          },
          "execution_count": 26,
          "metadata": {},
          "output_type": "execute_result"
        }
      ],
      "source": [
        "df_bookings.isnull().sum()"
      ]
    },
    {
      "cell_type": "markdown",
      "id": "5e3f00a5-7b6b-4d57-870f-6b2f2bc88f92",
      "metadata": {
        "id": "5e3f00a5-7b6b-4d57-870f-6b2f2bc88f92"
      },
      "source": [
        "- It doesn't have duplicated values\n",
        "- It has 134590 unique entries of bookings\n",
        "- Two columns ratings_given alone has 77907 null values and no_guests have 3 null values.\n",
        "- Dates in the dataframe are in wrong format\n",
        "- room_category in this df is room_id in df_rooms\n",
        "- Some no_guests values are negative"
      ]
    },
    {
      "cell_type": "code",
      "execution_count": null,
      "id": "dc67d432-a2f3-41e5-89e5-7a50a54f3af6",
      "metadata": {
        "id": "dc67d432-a2f3-41e5-89e5-7a50a54f3af6",
        "outputId": "75460c38-78a6-45ee-caea-0efc30a608cc"
      },
      "outputs": [
        {
          "data": {
            "text/plain": [
              "(array(['direct online', 'others', 'logtrip', 'tripster', 'makeyourtrip',\n",
              "        'journey', 'direct offline'], dtype=object),\n",
              " 7)"
            ]
          },
          "execution_count": 27,
          "metadata": {},
          "output_type": "execute_result"
        }
      ],
      "source": [
        "# unique booking platform\n",
        "\n",
        "df_bookings.booking_platform.unique(), df_bookings.booking_platform.nunique()"
      ]
    },
    {
      "cell_type": "code",
      "execution_count": null,
      "id": "94863a43-b4a9-4701-9314-f93fdd7faf54",
      "metadata": {
        "id": "94863a43-b4a9-4701-9314-f93fdd7faf54",
        "outputId": "096ba854-37dc-46ed-b7f0-931064eb6778"
      },
      "outputs": [
        {
          "data": {
            "text/plain": [
              "booking_platform\n",
              "others            55066\n",
              "makeyourtrip      26898\n",
              "logtrip           14756\n",
              "direct online     13379\n",
              "tripster           9630\n",
              "journey            8106\n",
              "direct offline     6755\n",
              "Name: count, dtype: int64"
            ]
          },
          "execution_count": 28,
          "metadata": {},
          "output_type": "execute_result"
        }
      ],
      "source": [
        "# value counts per booking id\n",
        "df_bookings.booking_platform.value_counts()"
      ]
    },
    {
      "cell_type": "code",
      "execution_count": null,
      "id": "b94cda6f-6a6d-4b51-888b-1f853305067a",
      "metadata": {
        "id": "b94cda6f-6a6d-4b51-888b-1f853305067a",
        "outputId": "1a96ffb2-5983-4695-e1c4-f641836adae4"
      },
      "outputs": [
        {
          "data": {
            "text/plain": [
              "<Axes: xlabel='booking_platform'>"
            ]
          },
          "execution_count": 29,
          "metadata": {},
          "output_type": "execute_result"
        },
        {
          "data": {
            "image/png": "[encoded data removed]",
            "text/plain": [
              "<Figure size 640x480 with 1 Axes>"
            ]
          },
          "metadata": {},
          "output_type": "display_data"
        }
      ],
      "source": [
        "df_bookings.booking_platform.value_counts().plot(kind=\"bar\")"
      ]
    },
    {
      "cell_type": "code",
      "execution_count": null,
      "id": "634eb9e0-2029-4d69-b357-72d52c7e20e5",
      "metadata": {
        "id": "634eb9e0-2029-4d69-b357-72d52c7e20e5",
        "outputId": "c5c52ebd-55c3-479b-c44d-9df0151d2a84"
      },
      "outputs": [
        {
          "data": {
            "text/plain": [
              "<Axes: >"
            ]
          },
          "execution_count": 30,
          "metadata": {},
          "output_type": "execute_result"
        },
        {
          "data": {
            "image/png": "[encoded data removed]",
            "text/plain": [
              "<Figure size 640x480 with 1 Axes>"
            ]
          },
          "metadata": {},
          "output_type": "display_data"
        }
      ],
      "source": [
        "# check outliers\n",
        "\n",
        "df_bookings.revenue_generated.plot(kind = \"box\")"
      ]
    },
    {
      "cell_type": "code",
      "execution_count": null,
      "id": "3e775906-aee8-494c-8584-c8e52cd0928e",
      "metadata": {
        "id": "3e775906-aee8-494c-8584-c8e52cd0928e",
        "outputId": "17f7ae26-760a-4cab-8d7a-7439e0e49729"
      },
      "outputs": [
        {
          "data": {
            "text/plain": [
              "<Axes: >"
            ]
          },
          "execution_count": 31,
          "metadata": {},
          "output_type": "execute_result"
        },
        {
          "data": {
            "image/png": "[encoded data removed]",
            "text/plain": [
              "<Figure size 640x480 with 1 Axes>"
            ]
          },
          "metadata": {},
          "output_type": "display_data"
        }
      ],
      "source": [
        "df_bookings.revenue_realized.plot(kind = \"box\")\n"
      ]
    },
    {
      "cell_type": "markdown",
      "id": "425d54f3-e681-4aa6-b630-29c44e16cde9",
      "metadata": {
        "id": "425d54f3-e681-4aa6-b630-29c44e16cde9"
      },
      "source": [
        "From Boxplots we can see outliers are there in revenue_generated and revenue_realized columns."
      ]
    },
    {
      "cell_type": "markdown",
      "id": "1fe61d10-66b5-43c5-b236-d6724b0a85bf",
      "metadata": {
        "id": "1fe61d10-66b5-43c5-b236-d6724b0a85bf"
      },
      "source": [
        "# 2.Data cleaning"
      ]
    },
    {
      "cell_type": "code",
      "execution_count": null,
      "id": "d954c4a3-0d07-4754-a869-409c33529f1e",
      "metadata": {
        "id": "d954c4a3-0d07-4754-a869-409c33529f1e",
        "outputId": "fe698340-7bf7-40a0-93f3-3672e3c8d8d3"
      },
      "outputs": [
        {
          "data": {
            "text/html": [
              "<div>\n",
              "<style scoped>\n",
              "    .dataframe tbody tr th:only-of-type {\n",
              "        vertical-align: middle;\n",
              "    }\n",
              "\n",
              "    .dataframe tbody tr th {\n",
              "        vertical-align: top;\n",
              "    }\n",
              "\n",
              "    .dataframe thead th {\n",
              "        text-align: right;\n",
              "    }\n",
              "</style>\n",
              "<table border=\"1\" class=\"dataframe\">\n",
              "  <thead>\n",
              "    <tr style=\"text-align: right;\">\n",
              "      <th></th>\n",
              "      <th>property_id</th>\n",
              "      <th>no_guests</th>\n",
              "      <th>ratings_given</th>\n",
              "      <th>revenue_generated</th>\n",
              "      <th>revenue_realized</th>\n",
              "    </tr>\n",
              "  </thead>\n",
              "  <tbody>\n",
              "    <tr>\n",
              "      <th>count</th>\n",
              "      <td>134590.000000</td>\n",
              "      <td>134587.000000</td>\n",
              "      <td>56683.000000</td>\n",
              "      <td>1.345900e+05</td>\n",
              "      <td>134590.000000</td>\n",
              "    </tr>\n",
              "    <tr>\n",
              "      <th>mean</th>\n",
              "      <td>18061.113493</td>\n",
              "      <td>2.036170</td>\n",
              "      <td>3.619004</td>\n",
              "      <td>1.537805e+04</td>\n",
              "      <td>12696.123256</td>\n",
              "    </tr>\n",
              "    <tr>\n",
              "      <th>std</th>\n",
              "      <td>1093.055847</td>\n",
              "      <td>1.034885</td>\n",
              "      <td>1.235009</td>\n",
              "      <td>9.303604e+04</td>\n",
              "      <td>6928.108124</td>\n",
              "    </tr>\n",
              "    <tr>\n",
              "      <th>min</th>\n",
              "      <td>16558.000000</td>\n",
              "      <td>-17.000000</td>\n",
              "      <td>1.000000</td>\n",
              "      <td>6.500000e+03</td>\n",
              "      <td>2600.000000</td>\n",
              "    </tr>\n",
              "    <tr>\n",
              "      <th>25%</th>\n",
              "      <td>17558.000000</td>\n",
              "      <td>1.000000</td>\n",
              "      <td>3.000000</td>\n",
              "      <td>9.900000e+03</td>\n",
              "      <td>7600.000000</td>\n",
              "    </tr>\n",
              "    <tr>\n",
              "      <th>50%</th>\n",
              "      <td>17564.000000</td>\n",
              "      <td>2.000000</td>\n",
              "      <td>4.000000</td>\n",
              "      <td>1.350000e+04</td>\n",
              "      <td>11700.000000</td>\n",
              "    </tr>\n",
              "    <tr>\n",
              "      <th>75%</th>\n",
              "      <td>18563.000000</td>\n",
              "      <td>2.000000</td>\n",
              "      <td>5.000000</td>\n",
              "      <td>1.800000e+04</td>\n",
              "      <td>15300.000000</td>\n",
              "    </tr>\n",
              "    <tr>\n",
              "      <th>max</th>\n",
              "      <td>19563.000000</td>\n",
              "      <td>6.000000</td>\n",
              "      <td>5.000000</td>\n",
              "      <td>2.856000e+07</td>\n",
              "      <td>45220.000000</td>\n",
              "    </tr>\n",
              "  </tbody>\n",
              "</table>\n",
              "</div>"
            ],
            "text/plain": [
              "         property_id      no_guests  ratings_given  revenue_generated  \\\n",
              "count  134590.000000  134587.000000   56683.000000       1.345900e+05   \n",
              "mean    18061.113493       2.036170       3.619004       1.537805e+04   \n",
              "std      1093.055847       1.034885       1.235009       9.303604e+04   \n",
              "min     16558.000000     -17.000000       1.000000       6.500000e+03   \n",
              "25%     17558.000000       1.000000       3.000000       9.900000e+03   \n",
              "50%     17564.000000       2.000000       4.000000       1.350000e+04   \n",
              "75%     18563.000000       2.000000       5.000000       1.800000e+04   \n",
              "max     19563.000000       6.000000       5.000000       2.856000e+07   \n",
              "\n",
              "       revenue_realized  \n",
              "count     134590.000000  \n",
              "mean       12696.123256  \n",
              "std         6928.108124  \n",
              "min         2600.000000  \n",
              "25%         7600.000000  \n",
              "50%        11700.000000  \n",
              "75%        15300.000000  \n",
              "max        45220.000000  "
            ]
          },
          "execution_count": 32,
          "metadata": {},
          "output_type": "execute_result"
        }
      ],
      "source": [
        "df_bookings.describe()"
      ]
    },
    {
      "cell_type": "markdown",
      "id": "094afac4-da5d-4ed2-b0b2-593f8679d080",
      "metadata": {
        "id": "094afac4-da5d-4ed2-b0b2-593f8679d080"
      },
      "source": [
        "## 2.1 Cleaning invalid no_guests"
      ]
    },
    {
      "cell_type": "code",
      "execution_count": null,
      "id": "992b84a4-e7a8-41f4-8804-b57774555fdc",
      "metadata": {
        "id": "992b84a4-e7a8-41f4-8804-b57774555fdc",
        "outputId": "67259558-74d2-4b59-94d2-57479c6dff8a"
      },
      "outputs": [
        {
          "data": {
            "text/html": [
              "<div>\n",
              "<style scoped>\n",
              "    .dataframe tbody tr th:only-of-type {\n",
              "        vertical-align: middle;\n",
              "    }\n",
              "\n",
              "    .dataframe tbody tr th {\n",
              "        vertical-align: top;\n",
              "    }\n",
              "\n",
              "    .dataframe thead th {\n",
              "        text-align: right;\n",
              "    }\n",
              "</style>\n",
              "<table border=\"1\" class=\"dataframe\">\n",
              "  <thead>\n",
              "    <tr style=\"text-align: right;\">\n",
              "      <th></th>\n",
              "      <th>booking_id</th>\n",
              "      <th>property_id</th>\n",
              "      <th>booking_date</th>\n",
              "      <th>check_in_date</th>\n",
              "      <th>checkout_date</th>\n",
              "      <th>no_guests</th>\n",
              "      <th>room_category</th>\n",
              "      <th>booking_platform</th>\n",
              "      <th>ratings_given</th>\n",
              "      <th>booking_status</th>\n",
              "      <th>revenue_generated</th>\n",
              "      <th>revenue_realized</th>\n",
              "    </tr>\n",
              "  </thead>\n",
              "  <tbody>\n",
              "    <tr>\n",
              "      <th>0</th>\n",
              "      <td>May012216558RT11</td>\n",
              "      <td>16558</td>\n",
              "      <td>27-04-22</td>\n",
              "      <td>1/5/2022</td>\n",
              "      <td>2/5/2022</td>\n",
              "      <td>-3.0</td>\n",
              "      <td>RT1</td>\n",
              "      <td>direct online</td>\n",
              "      <td>1.0</td>\n",
              "      <td>Checked Out</td>\n",
              "      <td>10010</td>\n",
              "      <td>10010</td>\n",
              "    </tr>\n",
              "    <tr>\n",
              "      <th>3</th>\n",
              "      <td>May012216558RT14</td>\n",
              "      <td>16558</td>\n",
              "      <td>28-04-22</td>\n",
              "      <td>1/5/2022</td>\n",
              "      <td>2/5/2022</td>\n",
              "      <td>-2.0</td>\n",
              "      <td>RT1</td>\n",
              "      <td>others</td>\n",
              "      <td>NaN</td>\n",
              "      <td>Cancelled</td>\n",
              "      <td>9100</td>\n",
              "      <td>3640</td>\n",
              "    </tr>\n",
              "    <tr>\n",
              "      <th>30</th>\n",
              "      <td>May012216558RT213</td>\n",
              "      <td>16558</td>\n",
              "      <td>29-04-22</td>\n",
              "      <td>1/5/2022</td>\n",
              "      <td>2/5/2022</td>\n",
              "      <td>NaN</td>\n",
              "      <td>RT2</td>\n",
              "      <td>logtrip</td>\n",
              "      <td>4.0</td>\n",
              "      <td>Checked Out</td>\n",
              "      <td>12600</td>\n",
              "      <td>12600</td>\n",
              "    </tr>\n",
              "    <tr>\n",
              "      <th>43</th>\n",
              "      <td>May012216558RT35</td>\n",
              "      <td>16558</td>\n",
              "      <td>29-04-22</td>\n",
              "      <td>1/5/2022</td>\n",
              "      <td>4/5/2022</td>\n",
              "      <td>NaN</td>\n",
              "      <td>RT3</td>\n",
              "      <td>others</td>\n",
              "      <td>NaN</td>\n",
              "      <td>Checked Out</td>\n",
              "      <td>18480</td>\n",
              "      <td>18480</td>\n",
              "    </tr>\n",
              "    <tr>\n",
              "      <th>46</th>\n",
              "      <td>May012216558RT38</td>\n",
              "      <td>16558</td>\n",
              "      <td>27-04-22</td>\n",
              "      <td>1/5/2022</td>\n",
              "      <td>3/5/2022</td>\n",
              "      <td>NaN</td>\n",
              "      <td>RT3</td>\n",
              "      <td>makeyourtrip</td>\n",
              "      <td>NaN</td>\n",
              "      <td>Checked Out</td>\n",
              "      <td>16800</td>\n",
              "      <td>16800</td>\n",
              "    </tr>\n",
              "    <tr>\n",
              "      <th>17924</th>\n",
              "      <td>May122218559RT44</td>\n",
              "      <td>18559</td>\n",
              "      <td>12/5/2022</td>\n",
              "      <td>12/5/2022</td>\n",
              "      <td>14-05-22</td>\n",
              "      <td>-10.0</td>\n",
              "      <td>RT4</td>\n",
              "      <td>direct online</td>\n",
              "      <td>NaN</td>\n",
              "      <td>No Show</td>\n",
              "      <td>20900</td>\n",
              "      <td>20900</td>\n",
              "    </tr>\n",
              "    <tr>\n",
              "      <th>18020</th>\n",
              "      <td>May122218561RT22</td>\n",
              "      <td>18561</td>\n",
              "      <td>8/5/2022</td>\n",
              "      <td>12/5/2022</td>\n",
              "      <td>14-05-22</td>\n",
              "      <td>-12.0</td>\n",
              "      <td>RT2</td>\n",
              "      <td>makeyourtrip</td>\n",
              "      <td>NaN</td>\n",
              "      <td>Cancelled</td>\n",
              "      <td>9000</td>\n",
              "      <td>3600</td>\n",
              "    </tr>\n",
              "    <tr>\n",
              "      <th>18119</th>\n",
              "      <td>May122218562RT311</td>\n",
              "      <td>18562</td>\n",
              "      <td>5/5/2022</td>\n",
              "      <td>12/5/2022</td>\n",
              "      <td>17-05-22</td>\n",
              "      <td>-6.0</td>\n",
              "      <td>RT3</td>\n",
              "      <td>direct offline</td>\n",
              "      <td>5.0</td>\n",
              "      <td>Checked Out</td>\n",
              "      <td>16800</td>\n",
              "      <td>16800</td>\n",
              "    </tr>\n",
              "    <tr>\n",
              "      <th>18121</th>\n",
              "      <td>May122218562RT313</td>\n",
              "      <td>18562</td>\n",
              "      <td>10/5/2022</td>\n",
              "      <td>12/5/2022</td>\n",
              "      <td>17-05-22</td>\n",
              "      <td>-4.0</td>\n",
              "      <td>RT3</td>\n",
              "      <td>direct online</td>\n",
              "      <td>NaN</td>\n",
              "      <td>Cancelled</td>\n",
              "      <td>14400</td>\n",
              "      <td>5760</td>\n",
              "    </tr>\n",
              "    <tr>\n",
              "      <th>56715</th>\n",
              "      <td>Jun082218562RT12</td>\n",
              "      <td>18562</td>\n",
              "      <td>5/6/2022</td>\n",
              "      <td>8/6/2022</td>\n",
              "      <td>13-06-22</td>\n",
              "      <td>-17.0</td>\n",
              "      <td>RT1</td>\n",
              "      <td>others</td>\n",
              "      <td>NaN</td>\n",
              "      <td>Checked Out</td>\n",
              "      <td>6500</td>\n",
              "      <td>6500</td>\n",
              "    </tr>\n",
              "    <tr>\n",
              "      <th>119765</th>\n",
              "      <td>Jul202219560RT220</td>\n",
              "      <td>19560</td>\n",
              "      <td>19-07-22</td>\n",
              "      <td>20-07-22</td>\n",
              "      <td>22-07-22</td>\n",
              "      <td>-1.0</td>\n",
              "      <td>RT2</td>\n",
              "      <td>others</td>\n",
              "      <td>NaN</td>\n",
              "      <td>Checked Out</td>\n",
              "      <td>13500</td>\n",
              "      <td>13500</td>\n",
              "    </tr>\n",
              "    <tr>\n",
              "      <th>134586</th>\n",
              "      <td>Jul312217564RT47</td>\n",
              "      <td>17564</td>\n",
              "      <td>30-07-22</td>\n",
              "      <td>31-07-22</td>\n",
              "      <td>1/8/2022</td>\n",
              "      <td>-4.0</td>\n",
              "      <td>RT4</td>\n",
              "      <td>logtrip</td>\n",
              "      <td>2.0</td>\n",
              "      <td>Checked Out</td>\n",
              "      <td>38760</td>\n",
              "      <td>38760</td>\n",
              "    </tr>\n",
              "  </tbody>\n",
              "</table>\n",
              "</div>"
            ],
            "text/plain": [
              "               booking_id  property_id booking_date check_in_date  \\\n",
              "0        May012216558RT11        16558     27-04-22      1/5/2022   \n",
              "3        May012216558RT14        16558     28-04-22      1/5/2022   \n",
              "30      May012216558RT213        16558     29-04-22      1/5/2022   \n",
              "43       May012216558RT35        16558     29-04-22      1/5/2022   \n",
              "46       May012216558RT38        16558     27-04-22      1/5/2022   \n",
              "17924    May122218559RT44        18559    12/5/2022     12/5/2022   \n",
              "18020    May122218561RT22        18561     8/5/2022     12/5/2022   \n",
              "18119   May122218562RT311        18562     5/5/2022     12/5/2022   \n",
              "18121   May122218562RT313        18562    10/5/2022     12/5/2022   \n",
              "56715    Jun082218562RT12        18562     5/6/2022      8/6/2022   \n",
              "119765  Jul202219560RT220        19560     19-07-22      20-07-22   \n",
              "134586   Jul312217564RT47        17564     30-07-22      31-07-22   \n",
              "\n",
              "       checkout_date  no_guests room_category booking_platform  ratings_given  \\\n",
              "0           2/5/2022       -3.0           RT1    direct online            1.0   \n",
              "3           2/5/2022       -2.0           RT1           others            NaN   \n",
              "30          2/5/2022        NaN           RT2          logtrip            4.0   \n",
              "43          4/5/2022        NaN           RT3           others            NaN   \n",
              "46          3/5/2022        NaN           RT3     makeyourtrip            NaN   \n",
              "17924       14-05-22      -10.0           RT4    direct online            NaN   \n",
              "18020       14-05-22      -12.0           RT2     makeyourtrip            NaN   \n",
              "18119       17-05-22       -6.0           RT3   direct offline            5.0   \n",
              "18121       17-05-22       -4.0           RT3    direct online            NaN   \n",
              "56715       13-06-22      -17.0           RT1           others            NaN   \n",
              "119765      22-07-22       -1.0           RT2           others            NaN   \n",
              "134586      1/8/2022       -4.0           RT4          logtrip            2.0   \n",
              "\n",
              "       booking_status  revenue_generated  revenue_realized  \n",
              "0         Checked Out              10010             10010  \n",
              "3           Cancelled               9100              3640  \n",
              "30        Checked Out              12600             12600  \n",
              "43        Checked Out              18480             18480  \n",
              "46        Checked Out              16800             16800  \n",
              "17924         No Show              20900             20900  \n",
              "18020       Cancelled               9000              3600  \n",
              "18119     Checked Out              16800             16800  \n",
              "18121       Cancelled              14400              5760  \n",
              "56715     Checked Out               6500              6500  \n",
              "119765    Checked Out              13500             13500  \n",
              "134586    Checked Out              38760             38760  "
            ]
          },
          "execution_count": 33,
          "metadata": {},
          "output_type": "execute_result"
        }
      ],
      "source": [
        "df_invalid_guests = df_bookings[(df_bookings.no_guests <= 0 ) | (df_bookings.no_guests.isnull())]\n",
        "df_invalid_guests"
      ]
    },
    {
      "cell_type": "markdown",
      "id": "ba8088cc-a0b9-4537-b72d-1eef0c4d9a1b",
      "metadata": {
        "id": "ba8088cc-a0b9-4537-b72d-1eef0c4d9a1b"
      },
      "source": [
        "- Since the above errors are less than 0.5 % of total data, we can ignore those for insights genseration."
      ]
    },
    {
      "cell_type": "code",
      "execution_count": null,
      "id": "c7a00e44-e2a7-4e2f-98de-54b6b24a5c33",
      "metadata": {
        "id": "c7a00e44-e2a7-4e2f-98de-54b6b24a5c33",
        "outputId": "ba7c17d3-16ad-4e21-8215-150a52b8d06c"
      },
      "outputs": [
        {
          "data": {
            "text/plain": [
              "(134578, 12)"
            ]
          },
          "execution_count": 34,
          "metadata": {},
          "output_type": "execute_result"
        }
      ],
      "source": [
        "df_bookings = df_bookings[(df_bookings.no_guests > 0) &  ~(df_bookings.no_guests.isnull())]\n",
        "df_bookings.shape"
      ]
    },
    {
      "cell_type": "markdown",
      "id": "38ef6cf2-b679-4736-8a86-b05de5ce3e00",
      "metadata": {
        "id": "38ef6cf2-b679-4736-8a86-b05de5ce3e00"
      },
      "source": [
        "## 2.2 Outlier removal in revenue_gnerated"
      ]
    },
    {
      "cell_type": "code",
      "execution_count": null,
      "id": "a75afa1b-cd74-42bb-a937-381fa8bc1903",
      "metadata": {
        "id": "a75afa1b-cd74-42bb-a937-381fa8bc1903",
        "outputId": "279981d1-0465-4a26-eade-b9e213883a0b"
      },
      "outputs": [
        {
          "data": {
            "text/plain": [
              "(np.int64(6500), np.int64(28560000))"
            ]
          },
          "execution_count": 35,
          "metadata": {},
          "output_type": "execute_result"
        }
      ],
      "source": [
        "df_bookings.revenue_generated.min(), df_bookings.revenue_generated.max()"
      ]
    },
    {
      "cell_type": "code",
      "execution_count": null,
      "id": "2925e7f7-658a-4e9c-aa8b-dca71bc917a4",
      "metadata": {
        "id": "2925e7f7-658a-4e9c-aa8b-dca71bc917a4",
        "outputId": "dd73aad3-f346-4e88-aa36-254f20908dbe"
      },
      "outputs": [
        {
          "data": {
            "text/plain": [
              "(np.float64(15378.036937686695), np.float64(13500.0))"
            ]
          },
          "execution_count": 36,
          "metadata": {},
          "output_type": "execute_result"
        }
      ],
      "source": [
        "df_bookings.revenue_generated.mean(), df_bookings.revenue_generated.median()"
      ]
    },
    {
      "cell_type": "code",
      "execution_count": null,
      "id": "63f14637-4fce-4c30-93f4-246b4e0ea729",
      "metadata": {
        "id": "63f14637-4fce-4c30-93f4-246b4e0ea729",
        "outputId": "5db48748-4e70-436c-bb3f-751756ef9b89"
      },
      "outputs": [
        {
          "data": {
            "text/plain": [
              "(np.float64(15378.036937686695), np.float64(93040.1549314641))"
            ]
          },
          "execution_count": 37,
          "metadata": {},
          "output_type": "execute_result"
        }
      ],
      "source": [
        "avg, std = df_bookings.revenue_generated.mean(), df_bookings.revenue_generated.std()\n",
        "avg, std"
      ]
    },
    {
      "cell_type": "code",
      "execution_count": null,
      "id": "76af8635-19a7-46ce-8b72-532f47240799",
      "metadata": {
        "id": "76af8635-19a7-46ce-8b72-532f47240799",
        "outputId": "aecc8805-0da1-4c03-d9f4-032ad5cf916f"
      },
      "outputs": [
        {
          "data": {
            "text/plain": [
              "(np.float64(294498.50173207896), np.float64(-263742.4278567056))"
            ]
          },
          "execution_count": 38,
          "metadata": {},
          "output_type": "execute_result"
        }
      ],
      "source": [
        "higher_limit = avg + 3 * std\n",
        "lower_limit = avg - 3 * std\n",
        "higher_limit, lower_limit"
      ]
    },
    {
      "cell_type": "code",
      "execution_count": null,
      "id": "5e975b88-d4d6-4b2b-ab5e-794aba790e7f",
      "metadata": {
        "id": "5e975b88-d4d6-4b2b-ab5e-794aba790e7f",
        "outputId": "45264ce2-d441-484e-8a5e-09751b1125fe"
      },
      "outputs": [
        {
          "data": {
            "text/html": [
              "<div>\n",
              "<style scoped>\n",
              "    .dataframe tbody tr th:only-of-type {\n",
              "        vertical-align: middle;\n",
              "    }\n",
              "\n",
              "    .dataframe tbody tr th {\n",
              "        vertical-align: top;\n",
              "    }\n",
              "\n",
              "    .dataframe thead th {\n",
              "        text-align: right;\n",
              "    }\n",
              "</style>\n",
              "<table border=\"1\" class=\"dataframe\">\n",
              "  <thead>\n",
              "    <tr style=\"text-align: right;\">\n",
              "      <th></th>\n",
              "      <th>booking_id</th>\n",
              "      <th>property_id</th>\n",
              "      <th>booking_date</th>\n",
              "      <th>check_in_date</th>\n",
              "      <th>checkout_date</th>\n",
              "      <th>no_guests</th>\n",
              "      <th>room_category</th>\n",
              "      <th>booking_platform</th>\n",
              "      <th>ratings_given</th>\n",
              "      <th>booking_status</th>\n",
              "      <th>revenue_generated</th>\n",
              "      <th>revenue_realized</th>\n",
              "    </tr>\n",
              "  </thead>\n",
              "  <tbody>\n",
              "    <tr>\n",
              "      <th>2</th>\n",
              "      <td>May012216558RT13</td>\n",
              "      <td>16558</td>\n",
              "      <td>28-04-22</td>\n",
              "      <td>1/5/2022</td>\n",
              "      <td>4/5/2022</td>\n",
              "      <td>2.0</td>\n",
              "      <td>RT1</td>\n",
              "      <td>logtrip</td>\n",
              "      <td>5.0</td>\n",
              "      <td>Checked Out</td>\n",
              "      <td>9100000</td>\n",
              "      <td>9100</td>\n",
              "    </tr>\n",
              "    <tr>\n",
              "      <th>111</th>\n",
              "      <td>May012216559RT32</td>\n",
              "      <td>16559</td>\n",
              "      <td>29-04-22</td>\n",
              "      <td>1/5/2022</td>\n",
              "      <td>2/5/2022</td>\n",
              "      <td>6.0</td>\n",
              "      <td>RT3</td>\n",
              "      <td>direct online</td>\n",
              "      <td>NaN</td>\n",
              "      <td>Checked Out</td>\n",
              "      <td>28560000</td>\n",
              "      <td>28560</td>\n",
              "    </tr>\n",
              "    <tr>\n",
              "      <th>315</th>\n",
              "      <td>May012216562RT22</td>\n",
              "      <td>16562</td>\n",
              "      <td>28-04-22</td>\n",
              "      <td>1/5/2022</td>\n",
              "      <td>4/5/2022</td>\n",
              "      <td>2.0</td>\n",
              "      <td>RT2</td>\n",
              "      <td>direct offline</td>\n",
              "      <td>3.0</td>\n",
              "      <td>Checked Out</td>\n",
              "      <td>12600000</td>\n",
              "      <td>12600</td>\n",
              "    </tr>\n",
              "    <tr>\n",
              "      <th>562</th>\n",
              "      <td>May012217559RT118</td>\n",
              "      <td>17559</td>\n",
              "      <td>26-04-22</td>\n",
              "      <td>1/5/2022</td>\n",
              "      <td>2/5/2022</td>\n",
              "      <td>2.0</td>\n",
              "      <td>RT1</td>\n",
              "      <td>others</td>\n",
              "      <td>NaN</td>\n",
              "      <td>Cancelled</td>\n",
              "      <td>2000000</td>\n",
              "      <td>4420</td>\n",
              "    </tr>\n",
              "    <tr>\n",
              "      <th>129176</th>\n",
              "      <td>Jul282216562RT26</td>\n",
              "      <td>16562</td>\n",
              "      <td>21-07-22</td>\n",
              "      <td>28-07-22</td>\n",
              "      <td>29-07-22</td>\n",
              "      <td>2.0</td>\n",
              "      <td>RT2</td>\n",
              "      <td>direct online</td>\n",
              "      <td>3.0</td>\n",
              "      <td>Checked Out</td>\n",
              "      <td>10000000</td>\n",
              "      <td>12600</td>\n",
              "    </tr>\n",
              "  </tbody>\n",
              "</table>\n",
              "</div>"
            ],
            "text/plain": [
              "               booking_id  property_id booking_date check_in_date  \\\n",
              "2        May012216558RT13        16558     28-04-22      1/5/2022   \n",
              "111      May012216559RT32        16559     29-04-22      1/5/2022   \n",
              "315      May012216562RT22        16562     28-04-22      1/5/2022   \n",
              "562     May012217559RT118        17559     26-04-22      1/5/2022   \n",
              "129176   Jul282216562RT26        16562     21-07-22      28-07-22   \n",
              "\n",
              "       checkout_date  no_guests room_category booking_platform  ratings_given  \\\n",
              "2           4/5/2022        2.0           RT1          logtrip            5.0   \n",
              "111         2/5/2022        6.0           RT3    direct online            NaN   \n",
              "315         4/5/2022        2.0           RT2   direct offline            3.0   \n",
              "562         2/5/2022        2.0           RT1           others            NaN   \n",
              "129176      29-07-22        2.0           RT2    direct online            3.0   \n",
              "\n",
              "       booking_status  revenue_generated  revenue_realized  \n",
              "2         Checked Out            9100000              9100  \n",
              "111       Checked Out           28560000             28560  \n",
              "315       Checked Out           12600000             12600  \n",
              "562         Cancelled            2000000              4420  \n",
              "129176    Checked Out           10000000             12600  "
            ]
          },
          "execution_count": 39,
          "metadata": {},
          "output_type": "execute_result"
        }
      ],
      "source": [
        "outliers = df_bookings[df_bookings.revenue_generated > higher_limit]\n",
        "outliers"
      ]
    },
    {
      "cell_type": "markdown",
      "id": "3ce4b41f-23b8-48aa-94a5-b1d0115cae8f",
      "metadata": {
        "id": "3ce4b41f-23b8-48aa-94a5-b1d0115cae8f"
      },
      "source": [
        "- Since there no negative values in revenue_generated and there are five values greater than higher limit we can remove those outliers"
      ]
    },
    {
      "cell_type": "code",
      "execution_count": null,
      "id": "b5e35da9-0321-4ecb-87b1-4e0c09995870",
      "metadata": {
        "id": "b5e35da9-0321-4ecb-87b1-4e0c09995870",
        "outputId": "d905b637-63a7-48c4-d316-18df06a3212a"
      },
      "outputs": [
        {
          "data": {
            "text/plain": [
              "(134573, 12)"
            ]
          },
          "execution_count": 40,
          "metadata": {},
          "output_type": "execute_result"
        }
      ],
      "source": [
        "# removing_outliers\n",
        "\n",
        "df_bookings = df_bookings[df_bookings.revenue_generated <= higher_limit]\n",
        "df_bookings.shape"
      ]
    },
    {
      "cell_type": "markdown",
      "id": "68dd8cb2-4c36-438f-8776-0d5c2c638dfa",
      "metadata": {
        "id": "68dd8cb2-4c36-438f-8776-0d5c2c638dfa"
      },
      "source": [
        "## 2.3 Outlier removal in revenue_realized"
      ]
    },
    {
      "cell_type": "code",
      "execution_count": null,
      "id": "85e107f5-1017-4023-a94d-f34f353fd0a4",
      "metadata": {
        "id": "85e107f5-1017-4023-a94d-f34f353fd0a4",
        "outputId": "8b0b9021-a43a-4e58-9ead-10ac600a6a93"
      },
      "outputs": [
        {
          "data": {
            "text/plain": [
              "(np.int64(2600), np.int64(45220))"
            ]
          },
          "execution_count": 41,
          "metadata": {},
          "output_type": "execute_result"
        }
      ],
      "source": [
        "df_bookings.revenue_realized.min(), df_bookings.revenue_realized.max()"
      ]
    },
    {
      "cell_type": "code",
      "execution_count": null,
      "id": "d31b1001-23f9-4051-9861-4ed49e303cb6",
      "metadata": {
        "id": "d31b1001-23f9-4051-9861-4ed49e303cb6",
        "outputId": "40092267-ab66-4def-db4e-d3c6577b0055"
      },
      "outputs": [
        {
          "data": {
            "text/plain": [
              "(np.float64(12695.983585117372), np.float64(11700.0))"
            ]
          },
          "execution_count": 42,
          "metadata": {},
          "output_type": "execute_result"
        }
      ],
      "source": [
        "df_bookings.revenue_realized.mean(), df_bookings.revenue_realized.median()"
      ]
    },
    {
      "cell_type": "code",
      "execution_count": null,
      "id": "c959425c-80d0-4269-a656-7d6bf72851dd",
      "metadata": {
        "id": "c959425c-80d0-4269-a656-7d6bf72851dd",
        "outputId": "b2f2885b-fe7f-4fe2-9833-9de1c3b17247"
      },
      "outputs": [
        {
          "data": {
            "text/plain": [
              "(np.float64(12695.983585117372), np.float64(6927.791692242814))"
            ]
          },
          "execution_count": 43,
          "metadata": {},
          "output_type": "execute_result"
        }
      ],
      "source": [
        "avg,std = df_bookings.revenue_realized.mean(), df_bookings.revenue_realized.std()\n",
        "avg, std"
      ]
    },
    {
      "cell_type": "code",
      "execution_count": null,
      "id": "eba91108-f5f4-4a19-a451-b59068cd5d09",
      "metadata": {
        "id": "eba91108-f5f4-4a19-a451-b59068cd5d09",
        "outputId": "cde6cdb0-7a90-4353-de78-d2c666b62395"
      },
      "outputs": [
        {
          "data": {
            "text/plain": [
              "(np.float64(33479.358661845814), np.float64(-8087.391491611072))"
            ]
          },
          "execution_count": 44,
          "metadata": {},
          "output_type": "execute_result"
        }
      ],
      "source": [
        "higher_limit = avg + 3 * std\n",
        "lower_limit = avg - 3 * std\n",
        "higher_limit, lower_limit"
      ]
    },
    {
      "cell_type": "code",
      "execution_count": null,
      "id": "a0381a6e-cfd5-4330-956f-32662c15761f",
      "metadata": {
        "id": "a0381a6e-cfd5-4330-956f-32662c15761f",
        "outputId": "34dc2d52-86c5-45b4-a67e-af7ab81d8a48"
      },
      "outputs": [
        {
          "data": {
            "text/html": [
              "<div>\n",
              "<style scoped>\n",
              "    .dataframe tbody tr th:only-of-type {\n",
              "        vertical-align: middle;\n",
              "    }\n",
              "\n",
              "    .dataframe tbody tr th {\n",
              "        vertical-align: top;\n",
              "    }\n",
              "\n",
              "    .dataframe thead th {\n",
              "        text-align: right;\n",
              "    }\n",
              "</style>\n",
              "<table border=\"1\" class=\"dataframe\">\n",
              "  <thead>\n",
              "    <tr style=\"text-align: right;\">\n",
              "      <th></th>\n",
              "      <th>booking_id</th>\n",
              "      <th>property_id</th>\n",
              "      <th>booking_date</th>\n",
              "      <th>check_in_date</th>\n",
              "      <th>checkout_date</th>\n",
              "      <th>no_guests</th>\n",
              "      <th>room_category</th>\n",
              "      <th>booking_platform</th>\n",
              "      <th>ratings_given</th>\n",
              "      <th>booking_status</th>\n",
              "      <th>revenue_generated</th>\n",
              "      <th>revenue_realized</th>\n",
              "    </tr>\n",
              "  </thead>\n",
              "  <tbody>\n",
              "    <tr>\n",
              "      <th>137</th>\n",
              "      <td>May012216559RT41</td>\n",
              "      <td>16559</td>\n",
              "      <td>27-04-22</td>\n",
              "      <td>1/5/2022</td>\n",
              "      <td>7/5/2022</td>\n",
              "      <td>4.0</td>\n",
              "      <td>RT4</td>\n",
              "      <td>others</td>\n",
              "      <td>NaN</td>\n",
              "      <td>Checked Out</td>\n",
              "      <td>38760</td>\n",
              "      <td>38760</td>\n",
              "    </tr>\n",
              "    <tr>\n",
              "      <th>139</th>\n",
              "      <td>May012216559RT43</td>\n",
              "      <td>16559</td>\n",
              "      <td>1/5/2022</td>\n",
              "      <td>1/5/2022</td>\n",
              "      <td>2/5/2022</td>\n",
              "      <td>6.0</td>\n",
              "      <td>RT4</td>\n",
              "      <td>tripster</td>\n",
              "      <td>3.0</td>\n",
              "      <td>Checked Out</td>\n",
              "      <td>45220</td>\n",
              "      <td>45220</td>\n",
              "    </tr>\n",
              "    <tr>\n",
              "      <th>143</th>\n",
              "      <td>May012216559RT47</td>\n",
              "      <td>16559</td>\n",
              "      <td>28-04-22</td>\n",
              "      <td>1/5/2022</td>\n",
              "      <td>3/5/2022</td>\n",
              "      <td>3.0</td>\n",
              "      <td>RT4</td>\n",
              "      <td>others</td>\n",
              "      <td>5.0</td>\n",
              "      <td>Checked Out</td>\n",
              "      <td>35530</td>\n",
              "      <td>35530</td>\n",
              "    </tr>\n",
              "    <tr>\n",
              "      <th>149</th>\n",
              "      <td>May012216559RT413</td>\n",
              "      <td>16559</td>\n",
              "      <td>24-04-22</td>\n",
              "      <td>1/5/2022</td>\n",
              "      <td>7/5/2022</td>\n",
              "      <td>5.0</td>\n",
              "      <td>RT4</td>\n",
              "      <td>logtrip</td>\n",
              "      <td>NaN</td>\n",
              "      <td>Checked Out</td>\n",
              "      <td>41990</td>\n",
              "      <td>41990</td>\n",
              "    </tr>\n",
              "    <tr>\n",
              "      <th>222</th>\n",
              "      <td>May012216560RT45</td>\n",
              "      <td>16560</td>\n",
              "      <td>30-04-22</td>\n",
              "      <td>1/5/2022</td>\n",
              "      <td>3/5/2022</td>\n",
              "      <td>5.0</td>\n",
              "      <td>RT4</td>\n",
              "      <td>others</td>\n",
              "      <td>3.0</td>\n",
              "      <td>Checked Out</td>\n",
              "      <td>34580</td>\n",
              "      <td>34580</td>\n",
              "    </tr>\n",
              "    <tr>\n",
              "      <th>...</th>\n",
              "      <td>...</td>\n",
              "      <td>...</td>\n",
              "      <td>...</td>\n",
              "      <td>...</td>\n",
              "      <td>...</td>\n",
              "      <td>...</td>\n",
              "      <td>...</td>\n",
              "      <td>...</td>\n",
              "      <td>...</td>\n",
              "      <td>...</td>\n",
              "      <td>...</td>\n",
              "      <td>...</td>\n",
              "    </tr>\n",
              "    <tr>\n",
              "      <th>134328</th>\n",
              "      <td>Jul312219560RT49</td>\n",
              "      <td>19560</td>\n",
              "      <td>31-07-22</td>\n",
              "      <td>31-07-22</td>\n",
              "      <td>2/8/2022</td>\n",
              "      <td>6.0</td>\n",
              "      <td>RT4</td>\n",
              "      <td>direct online</td>\n",
              "      <td>5.0</td>\n",
              "      <td>Checked Out</td>\n",
              "      <td>39900</td>\n",
              "      <td>39900</td>\n",
              "    </tr>\n",
              "    <tr>\n",
              "      <th>134331</th>\n",
              "      <td>Jul312219560RT412</td>\n",
              "      <td>19560</td>\n",
              "      <td>31-07-22</td>\n",
              "      <td>31-07-22</td>\n",
              "      <td>1/8/2022</td>\n",
              "      <td>6.0</td>\n",
              "      <td>RT4</td>\n",
              "      <td>others</td>\n",
              "      <td>2.0</td>\n",
              "      <td>Checked Out</td>\n",
              "      <td>39900</td>\n",
              "      <td>39900</td>\n",
              "    </tr>\n",
              "    <tr>\n",
              "      <th>134467</th>\n",
              "      <td>Jul312219562RT45</td>\n",
              "      <td>19562</td>\n",
              "      <td>28-07-22</td>\n",
              "      <td>31-07-22</td>\n",
              "      <td>1/8/2022</td>\n",
              "      <td>6.0</td>\n",
              "      <td>RT4</td>\n",
              "      <td>makeyourtrip</td>\n",
              "      <td>4.0</td>\n",
              "      <td>Checked Out</td>\n",
              "      <td>39900</td>\n",
              "      <td>39900</td>\n",
              "    </tr>\n",
              "    <tr>\n",
              "      <th>134474</th>\n",
              "      <td>Jul312219562RT412</td>\n",
              "      <td>19562</td>\n",
              "      <td>25-07-22</td>\n",
              "      <td>31-07-22</td>\n",
              "      <td>6/8/2022</td>\n",
              "      <td>5.0</td>\n",
              "      <td>RT4</td>\n",
              "      <td>direct offline</td>\n",
              "      <td>5.0</td>\n",
              "      <td>Checked Out</td>\n",
              "      <td>37050</td>\n",
              "      <td>37050</td>\n",
              "    </tr>\n",
              "    <tr>\n",
              "      <th>134581</th>\n",
              "      <td>Jul312217564RT42</td>\n",
              "      <td>17564</td>\n",
              "      <td>31-07-22</td>\n",
              "      <td>31-07-22</td>\n",
              "      <td>1/8/2022</td>\n",
              "      <td>4.0</td>\n",
              "      <td>RT4</td>\n",
              "      <td>makeyourtrip</td>\n",
              "      <td>4.0</td>\n",
              "      <td>Checked Out</td>\n",
              "      <td>38760</td>\n",
              "      <td>38760</td>\n",
              "    </tr>\n",
              "  </tbody>\n",
              "</table>\n",
              "<p>1299 rows × 12 columns</p>\n",
              "</div>"
            ],
            "text/plain": [
              "               booking_id  property_id booking_date check_in_date  \\\n",
              "137      May012216559RT41        16559     27-04-22      1/5/2022   \n",
              "139      May012216559RT43        16559     1/5/2022      1/5/2022   \n",
              "143      May012216559RT47        16559     28-04-22      1/5/2022   \n",
              "149     May012216559RT413        16559     24-04-22      1/5/2022   \n",
              "222      May012216560RT45        16560     30-04-22      1/5/2022   \n",
              "...                   ...          ...          ...           ...   \n",
              "134328   Jul312219560RT49        19560     31-07-22      31-07-22   \n",
              "134331  Jul312219560RT412        19560     31-07-22      31-07-22   \n",
              "134467   Jul312219562RT45        19562     28-07-22      31-07-22   \n",
              "134474  Jul312219562RT412        19562     25-07-22      31-07-22   \n",
              "134581   Jul312217564RT42        17564     31-07-22      31-07-22   \n",
              "\n",
              "       checkout_date  no_guests room_category booking_platform  ratings_given  \\\n",
              "137         7/5/2022        4.0           RT4           others            NaN   \n",
              "139         2/5/2022        6.0           RT4         tripster            3.0   \n",
              "143         3/5/2022        3.0           RT4           others            5.0   \n",
              "149         7/5/2022        5.0           RT4          logtrip            NaN   \n",
              "222         3/5/2022        5.0           RT4           others            3.0   \n",
              "...              ...        ...           ...              ...            ...   \n",
              "134328      2/8/2022        6.0           RT4    direct online            5.0   \n",
              "134331      1/8/2022        6.0           RT4           others            2.0   \n",
              "134467      1/8/2022        6.0           RT4     makeyourtrip            4.0   \n",
              "134474      6/8/2022        5.0           RT4   direct offline            5.0   \n",
              "134581      1/8/2022        4.0           RT4     makeyourtrip            4.0   \n",
              "\n",
              "       booking_status  revenue_generated  revenue_realized  \n",
              "137       Checked Out              38760             38760  \n",
              "139       Checked Out              45220             45220  \n",
              "143       Checked Out              35530             35530  \n",
              "149       Checked Out              41990             41990  \n",
              "222       Checked Out              34580             34580  \n",
              "...               ...                ...               ...  \n",
              "134328    Checked Out              39900             39900  \n",
              "134331    Checked Out              39900             39900  \n",
              "134467    Checked Out              39900             39900  \n",
              "134474    Checked Out              37050             37050  \n",
              "134581    Checked Out              38760             38760  \n",
              "\n",
              "[1299 rows x 12 columns]"
            ]
          },
          "execution_count": 45,
          "metadata": {},
          "output_type": "execute_result"
        }
      ],
      "source": [
        "outliers = df_bookings[(df_bookings.revenue_realized < lower_limit) | (df_bookings.revenue_realized > higher_limit)]\n",
        "outliers"
      ]
    },
    {
      "cell_type": "code",
      "execution_count": null,
      "id": "96a0bd5e-88e2-4dbf-a87c-ea279391d2ac",
      "metadata": {
        "id": "96a0bd5e-88e2-4dbf-a87c-ea279391d2ac",
        "outputId": "c6bdb680-34ed-4d0b-97ec-bcd89b9a4351"
      },
      "outputs": [
        {
          "data": {
            "text/plain": [
              "room_category\n",
              "RT4    1299\n",
              "Name: count, dtype: int64"
            ]
          },
          "execution_count": 46,
          "metadata": {},
          "output_type": "execute_result"
        }
      ],
      "source": [
        "df_bookings[df_bookings.revenue_realized > higher_limit].room_category.value_counts()"
      ]
    },
    {
      "cell_type": "markdown",
      "id": "8bcb4ba7-c586-4a45-8d12-47d403f4dbd5",
      "metadata": {
        "id": "8bcb4ba7-c586-4a45-8d12-47d403f4dbd5"
      },
      "source": [
        "- Since, all the values belongs to RT4 category, which is presidential suite from df_rooms, it's rent can be higher and fo fair analysis we need to do data analysis only on RT4 room type"
      ]
    },
    {
      "cell_type": "code",
      "execution_count": null,
      "id": "804acf90-3d72-49a8-b964-ecbfdd577c0b",
      "metadata": {
        "id": "804acf90-3d72-49a8-b964-ecbfdd577c0b",
        "outputId": "6393193e-bc67-4243-9487-efeb70f494e0"
      },
      "outputs": [
        {
          "data": {
            "text/plain": [
              "count    16071.000000\n",
              "mean     23439.308444\n",
              "std       9048.599076\n",
              "min       7600.000000\n",
              "25%      19000.000000\n",
              "50%      26600.000000\n",
              "75%      32300.000000\n",
              "max      45220.000000\n",
              "Name: revenue_realized, dtype: float64"
            ]
          },
          "execution_count": 47,
          "metadata": {},
          "output_type": "execute_result"
        }
      ],
      "source": [
        "df_bookings[df_bookings.room_category == \"RT4\"].revenue_realized.describe()"
      ]
    },
    {
      "cell_type": "code",
      "execution_count": null,
      "id": "46b9ce63-822b-4429-b737-0bc380b90a3d",
      "metadata": {
        "id": "46b9ce63-822b-4429-b737-0bc380b90a3d",
        "outputId": "4d1cb71a-9d8e-4be2-e4a1-1d5f7e55142d"
      },
      "outputs": [
        {
          "data": {
            "text/plain": [
              "np.float64(50585.10567100048)"
            ]
          },
          "execution_count": 48,
          "metadata": {},
          "output_type": "execute_result"
        }
      ],
      "source": [
        "RT4 = df_bookings[df_bookings.room_category == \"RT4\"].revenue_realized\n",
        "avg, std = RT4.mean(), RT4.std()\n",
        "higher_limit = avg + 3 * std\n",
        "higher_limit"
      ]
    },
    {
      "cell_type": "markdown",
      "id": "7155219f-516d-4a63-b373-bf067fbe3c0c",
      "metadata": {
        "id": "7155219f-516d-4a63-b373-bf067fbe3c0c"
      },
      "source": [
        "From this we can conclude that higher limit is 50585 and we have max value of 45220 for revenue_realized in our dataframe, we dont need to perform any data cleaning on this column."
      ]
    },
    {
      "cell_type": "markdown",
      "id": "271ea165-1b4d-4ba7-ac86-2fa1c66dca74",
      "metadata": {
        "id": "271ea165-1b4d-4ba7-ac86-2fa1c66dca74"
      },
      "source": [
        "## 2.4 Null values in ratings_given"
      ]
    },
    {
      "cell_type": "markdown",
      "id": "6e8c09e8-d1d9-4289-a420-f9d9b08f7fc1",
      "metadata": {
        "id": "6e8c09e8-d1d9-4289-a420-f9d9b08f7fc1"
      },
      "source": [
        "It's logical that not every customers won't give reviews, it's okay to have null values in ratings_given column."
      ]
    },
    {
      "cell_type": "markdown",
      "id": "1dd7903f-2bef-45df-8879-278e4a8bdcbd",
      "metadata": {
        "id": "1dd7903f-2bef-45df-8879-278e4a8bdcbd"
      },
      "source": [
        "## 2.5 Null values in df_agg_bookings\n",
        "\n",
        "Q) In aggregate bookings find columns that have null values. Fill these null values with whatever you think is the appropriate substitute(possible ways is to use mean or median)"
      ]
    },
    {
      "cell_type": "code",
      "execution_count": null,
      "id": "52594fa9-2556-4e84-a6ec-2ee33df054bb",
      "metadata": {
        "id": "52594fa9-2556-4e84-a6ec-2ee33df054bb",
        "outputId": "20ab143a-7740-4c34-98df-7c74a743135d"
      },
      "outputs": [
        {
          "data": {
            "text/plain": [
              "property_id            0\n",
              "check_in_date          0\n",
              "room_category          0\n",
              "successful_bookings    0\n",
              "capacity               2\n",
              "dtype: int64"
            ]
          },
          "execution_count": 49,
          "metadata": {},
          "output_type": "execute_result"
        }
      ],
      "source": [
        "df_agg_bookings.isnull().sum()"
      ]
    },
    {
      "cell_type": "code",
      "execution_count": null,
      "id": "c9273bb8-65f5-4d4d-aeca-ccac42af5d6d",
      "metadata": {
        "id": "c9273bb8-65f5-4d4d-aeca-ccac42af5d6d",
        "outputId": "10024e27-f74c-48a4-8b5c-80e9e22902e9"
      },
      "outputs": [
        {
          "data": {
            "text/html": [
              "<div>\n",
              "<style scoped>\n",
              "    .dataframe tbody tr th:only-of-type {\n",
              "        vertical-align: middle;\n",
              "    }\n",
              "\n",
              "    .dataframe tbody tr th {\n",
              "        vertical-align: top;\n",
              "    }\n",
              "\n",
              "    .dataframe thead th {\n",
              "        text-align: right;\n",
              "    }\n",
              "</style>\n",
              "<table border=\"1\" class=\"dataframe\">\n",
              "  <thead>\n",
              "    <tr style=\"text-align: right;\">\n",
              "      <th></th>\n",
              "      <th>property_id</th>\n",
              "      <th>check_in_date</th>\n",
              "      <th>room_category</th>\n",
              "      <th>successful_bookings</th>\n",
              "      <th>capacity</th>\n",
              "    </tr>\n",
              "  </thead>\n",
              "  <tbody>\n",
              "    <tr>\n",
              "      <th>8</th>\n",
              "      <td>17561</td>\n",
              "      <td>1-May-22</td>\n",
              "      <td>RT1</td>\n",
              "      <td>22</td>\n",
              "      <td>NaN</td>\n",
              "    </tr>\n",
              "    <tr>\n",
              "      <th>14</th>\n",
              "      <td>17562</td>\n",
              "      <td>1-May-22</td>\n",
              "      <td>RT1</td>\n",
              "      <td>12</td>\n",
              "      <td>NaN</td>\n",
              "    </tr>\n",
              "  </tbody>\n",
              "</table>\n",
              "</div>"
            ],
            "text/plain": [
              "    property_id check_in_date room_category  successful_bookings  capacity\n",
              "8         17561      1-May-22           RT1                   22       NaN\n",
              "14        17562      1-May-22           RT1                   12       NaN"
            ]
          },
          "execution_count": 50,
          "metadata": {},
          "output_type": "execute_result"
        }
      ],
      "source": [
        "df_agg_bookings[df_agg_bookings.capacity.isnull()]"
      ]
    },
    {
      "cell_type": "markdown",
      "id": "4bd02d1e-69a5-47ba-a4fb-00e1e50190d9",
      "metadata": {
        "id": "4bd02d1e-69a5-47ba-a4fb-00e1e50190d9"
      },
      "source": [
        "#### Let's find out capacity for property_id 17561 & 17652 with room_type RT1"
      ]
    },
    {
      "cell_type": "code",
      "execution_count": null,
      "id": "daa8ec35-4a9c-425b-be11-f1738e8770e2",
      "metadata": {
        "id": "daa8ec35-4a9c-425b-be11-f1738e8770e2",
        "outputId": "bac4bcca-31ce-4572-f42e-ec02db884c94"
      },
      "outputs": [
        {
          "data": {
            "text/plain": [
              "np.float64(25.0)"
            ]
          },
          "execution_count": 51,
          "metadata": {},
          "output_type": "execute_result"
        }
      ],
      "source": [
        "df_agg_bookings.capacity.median()"
      ]
    },
    {
      "cell_type": "code",
      "execution_count": null,
      "id": "c6d0d3ef-bcbc-4e73-b3aa-9e8d386ac11e",
      "metadata": {
        "id": "c6d0d3ef-bcbc-4e73-b3aa-9e8d386ac11e",
        "outputId": "5c2c6d15-583a-44e7-d332-6a0402a52f12"
      },
      "outputs": [
        {
          "name": "stderr",
          "output_type": "stream",
          "text": [
            "C:\\Users\\THIRUMURUGAN\\AppData\\Local\\Temp\\ipykernel_23008\\2322843452.py:1: FutureWarning: A value is trying to be set on a copy of a DataFrame or Series through chained assignment using an inplace method.\n",
            "The behavior will change in pandas 3.0. This inplace method will never work because the intermediate object on which we are setting values always behaves as a copy.\n",
            "\n",
            "For example, when doing 'df[col].method(value, inplace=True)', try using 'df.method({col: value}, inplace=True)' or df[col] = df[col].method(value) instead, to perform the operation inplace on the original object.\n",
            "\n",
            "\n",
            "  df_agg_bookings.capacity.fillna(df_agg_bookings.capacity.median(), inplace = True)\n"
          ]
        },
        {
          "data": {
            "text/html": [
              "<div>\n",
              "<style scoped>\n",
              "    .dataframe tbody tr th:only-of-type {\n",
              "        vertical-align: middle;\n",
              "    }\n",
              "\n",
              "    .dataframe tbody tr th {\n",
              "        vertical-align: top;\n",
              "    }\n",
              "\n",
              "    .dataframe thead th {\n",
              "        text-align: right;\n",
              "    }\n",
              "</style>\n",
              "<table border=\"1\" class=\"dataframe\">\n",
              "  <thead>\n",
              "    <tr style=\"text-align: right;\">\n",
              "      <th></th>\n",
              "      <th>property_id</th>\n",
              "      <th>check_in_date</th>\n",
              "      <th>room_category</th>\n",
              "      <th>successful_bookings</th>\n",
              "      <th>capacity</th>\n",
              "    </tr>\n",
              "  </thead>\n",
              "  <tbody>\n",
              "    <tr>\n",
              "      <th>8</th>\n",
              "      <td>17561</td>\n",
              "      <td>1-May-22</td>\n",
              "      <td>RT1</td>\n",
              "      <td>22</td>\n",
              "      <td>25.0</td>\n",
              "    </tr>\n",
              "    <tr>\n",
              "      <th>14</th>\n",
              "      <td>17562</td>\n",
              "      <td>1-May-22</td>\n",
              "      <td>RT1</td>\n",
              "      <td>12</td>\n",
              "      <td>25.0</td>\n",
              "    </tr>\n",
              "  </tbody>\n",
              "</table>\n",
              "</div>"
            ],
            "text/plain": [
              "    property_id check_in_date room_category  successful_bookings  capacity\n",
              "8         17561      1-May-22           RT1                   22      25.0\n",
              "14        17562      1-May-22           RT1                   12      25.0"
            ]
          },
          "execution_count": 52,
          "metadata": {},
          "output_type": "execute_result"
        }
      ],
      "source": [
        "df_agg_bookings.capacity.fillna(df_agg_bookings.capacity.median(), inplace = True)\n",
        "df_agg_bookings.loc[[8,14]]"
      ]
    },
    {
      "cell_type": "markdown",
      "id": "60e1897b-fcc0-4928-80b3-0dc011a4c92d",
      "metadata": {
        "id": "60e1897b-fcc0-4928-80b3-0dc011a4c92d"
      },
      "source": [
        "### 2.6 successful_bookings > capacity in df_agg_bookings"
      ]
    },
    {
      "cell_type": "markdown",
      "id": "34dcfdb2-2ca1-4507-8851-51e0465c1af0",
      "metadata": {
        "id": "34dcfdb2-2ca1-4507-8851-51e0465c1af0"
      },
      "source": [
        "In aggregate bookings find out records that have successful_bookings value greater than capacity. Filter those records"
      ]
    },
    {
      "cell_type": "code",
      "execution_count": null,
      "id": "75ddb27d-7ecf-46ae-9c51-64d292dce828",
      "metadata": {
        "id": "75ddb27d-7ecf-46ae-9c51-64d292dce828",
        "outputId": "a24956de-6147-42e6-a4b3-6222b7d3b27e"
      },
      "outputs": [
        {
          "data": {
            "text/plain": [
              "Index(['property_id', 'check_in_date', 'room_category', 'successful_bookings',\n",
              "       'capacity'],\n",
              "      dtype='object')"
            ]
          },
          "execution_count": 53,
          "metadata": {},
          "output_type": "execute_result"
        }
      ],
      "source": [
        "df_agg_bookings.columns"
      ]
    },
    {
      "cell_type": "code",
      "execution_count": null,
      "id": "7ebeb784-bbf3-4f7f-ac0d-83c927cfb5ec",
      "metadata": {
        "id": "7ebeb784-bbf3-4f7f-ac0d-83c927cfb5ec",
        "outputId": "8c8e8443-2b0f-420d-a033-69c4b1c16f20"
      },
      "outputs": [
        {
          "data": {
            "text/html": [
              "<div>\n",
              "<style scoped>\n",
              "    .dataframe tbody tr th:only-of-type {\n",
              "        vertical-align: middle;\n",
              "    }\n",
              "\n",
              "    .dataframe tbody tr th {\n",
              "        vertical-align: top;\n",
              "    }\n",
              "\n",
              "    .dataframe thead th {\n",
              "        text-align: right;\n",
              "    }\n",
              "</style>\n",
              "<table border=\"1\" class=\"dataframe\">\n",
              "  <thead>\n",
              "    <tr style=\"text-align: right;\">\n",
              "      <th></th>\n",
              "      <th>property_id</th>\n",
              "      <th>check_in_date</th>\n",
              "      <th>room_category</th>\n",
              "      <th>successful_bookings</th>\n",
              "      <th>capacity</th>\n",
              "    </tr>\n",
              "  </thead>\n",
              "  <tbody>\n",
              "    <tr>\n",
              "      <th>3</th>\n",
              "      <td>17558</td>\n",
              "      <td>1-May-22</td>\n",
              "      <td>RT1</td>\n",
              "      <td>30</td>\n",
              "      <td>19.0</td>\n",
              "    </tr>\n",
              "    <tr>\n",
              "      <th>12</th>\n",
              "      <td>16563</td>\n",
              "      <td>1-May-22</td>\n",
              "      <td>RT1</td>\n",
              "      <td>100</td>\n",
              "      <td>41.0</td>\n",
              "    </tr>\n",
              "    <tr>\n",
              "      <th>4136</th>\n",
              "      <td>19558</td>\n",
              "      <td>11-Jun-22</td>\n",
              "      <td>RT2</td>\n",
              "      <td>50</td>\n",
              "      <td>39.0</td>\n",
              "    </tr>\n",
              "    <tr>\n",
              "      <th>6209</th>\n",
              "      <td>19560</td>\n",
              "      <td>2-Jul-22</td>\n",
              "      <td>RT1</td>\n",
              "      <td>123</td>\n",
              "      <td>26.0</td>\n",
              "    </tr>\n",
              "    <tr>\n",
              "      <th>8522</th>\n",
              "      <td>19559</td>\n",
              "      <td>25-Jul-22</td>\n",
              "      <td>RT1</td>\n",
              "      <td>35</td>\n",
              "      <td>24.0</td>\n",
              "    </tr>\n",
              "    <tr>\n",
              "      <th>9194</th>\n",
              "      <td>18563</td>\n",
              "      <td>31-Jul-22</td>\n",
              "      <td>RT4</td>\n",
              "      <td>20</td>\n",
              "      <td>18.0</td>\n",
              "    </tr>\n",
              "  </tbody>\n",
              "</table>\n",
              "</div>"
            ],
            "text/plain": [
              "      property_id check_in_date room_category  successful_bookings  capacity\n",
              "3           17558      1-May-22           RT1                   30      19.0\n",
              "12          16563      1-May-22           RT1                  100      41.0\n",
              "4136        19558     11-Jun-22           RT2                   50      39.0\n",
              "6209        19560      2-Jul-22           RT1                  123      26.0\n",
              "8522        19559     25-Jul-22           RT1                   35      24.0\n",
              "9194        18563     31-Jul-22           RT4                   20      18.0"
            ]
          },
          "execution_count": 54,
          "metadata": {},
          "output_type": "execute_result"
        }
      ],
      "source": [
        "df_agg_bookings[df_agg_bookings.successful_bookings > df_agg_bookings.capacity]"
      ]
    },
    {
      "cell_type": "markdown",
      "id": "f1f47544-3c60-46ac-a5e7-f65440e34c1d",
      "metadata": {
        "id": "f1f47544-3c60-46ac-a5e7-f65440e34c1d"
      },
      "source": [
        "We have 6 records in df_agg_bookings where successful_bookings are greater than actual capacity, which show presence of data errors. It's better to filter out those rows from the dataframe for further analysis."
      ]
    },
    {
      "cell_type": "code",
      "execution_count": null,
      "id": "e0d34850-73bc-4c07-ae4e-75e0ad126094",
      "metadata": {
        "id": "e0d34850-73bc-4c07-ae4e-75e0ad126094"
      },
      "outputs": [],
      "source": [
        "df_agg_bookings = df_agg_bookings[df_agg_bookings.successful_bookings <= df_agg_bookings.capacity]"
      ]
    },
    {
      "cell_type": "code",
      "execution_count": null,
      "id": "2fac50cc-3fb9-42e7-8c92-2eab830ed6f1",
      "metadata": {
        "id": "2fac50cc-3fb9-42e7-8c92-2eab830ed6f1",
        "outputId": "15a6a0ba-c147-46aa-cea0-bf974fc35d22"
      },
      "outputs": [
        {
          "data": {
            "text/plain": [
              "(9194, 5)"
            ]
          },
          "execution_count": 56,
          "metadata": {},
          "output_type": "execute_result"
        }
      ],
      "source": [
        "df_agg_bookings.shape"
      ]
    },
    {
      "cell_type": "markdown",
      "id": "54dc2ab8-f2b5-4a5f-9f49-17d02a7478ae",
      "metadata": {
        "id": "54dc2ab8-f2b5-4a5f-9f49-17d02a7478ae"
      },
      "source": [
        "## 3. Data Transformation\n"
      ]
    },
    {
      "cell_type": "markdown",
      "id": "7c5d9aa1-c4b8-4480-b202-ff2183872f9f",
      "metadata": {
        "id": "7c5d9aa1-c4b8-4480-b202-ff2183872f9f"
      },
      "source": [
        "### 3.1 Create occupancy percentage column"
      ]
    },
    {
      "cell_type": "code",
      "execution_count": null,
      "id": "12c96e2e-a9d8-49be-94a4-268bb4885e18",
      "metadata": {
        "id": "12c96e2e-a9d8-49be-94a4-268bb4885e18",
        "outputId": "42320c68-2d45-4312-dcb6-6197669fc0c3"
      },
      "outputs": [
        {
          "data": {
            "text/html": [
              "<div>\n",
              "<style scoped>\n",
              "    .dataframe tbody tr th:only-of-type {\n",
              "        vertical-align: middle;\n",
              "    }\n",
              "\n",
              "    .dataframe tbody tr th {\n",
              "        vertical-align: top;\n",
              "    }\n",
              "\n",
              "    .dataframe thead th {\n",
              "        text-align: right;\n",
              "    }\n",
              "</style>\n",
              "<table border=\"1\" class=\"dataframe\">\n",
              "  <thead>\n",
              "    <tr style=\"text-align: right;\">\n",
              "      <th></th>\n",
              "      <th>property_id</th>\n",
              "      <th>check_in_date</th>\n",
              "      <th>room_category</th>\n",
              "      <th>successful_bookings</th>\n",
              "      <th>capacity</th>\n",
              "    </tr>\n",
              "  </thead>\n",
              "  <tbody>\n",
              "    <tr>\n",
              "      <th>0</th>\n",
              "      <td>16559</td>\n",
              "      <td>1-May-22</td>\n",
              "      <td>RT1</td>\n",
              "      <td>25</td>\n",
              "      <td>30.0</td>\n",
              "    </tr>\n",
              "    <tr>\n",
              "      <th>1</th>\n",
              "      <td>19562</td>\n",
              "      <td>1-May-22</td>\n",
              "      <td>RT1</td>\n",
              "      <td>28</td>\n",
              "      <td>30.0</td>\n",
              "    </tr>\n",
              "    <tr>\n",
              "      <th>2</th>\n",
              "      <td>19563</td>\n",
              "      <td>1-May-22</td>\n",
              "      <td>RT1</td>\n",
              "      <td>23</td>\n",
              "      <td>30.0</td>\n",
              "    </tr>\n",
              "  </tbody>\n",
              "</table>\n",
              "</div>"
            ],
            "text/plain": [
              "   property_id check_in_date room_category  successful_bookings  capacity\n",
              "0        16559      1-May-22           RT1                   25      30.0\n",
              "1        19562      1-May-22           RT1                   28      30.0\n",
              "2        19563      1-May-22           RT1                   23      30.0"
            ]
          },
          "execution_count": 57,
          "metadata": {},
          "output_type": "execute_result"
        }
      ],
      "source": [
        "df_agg_bookings.head(3)"
      ]
    },
    {
      "cell_type": "code",
      "execution_count": null,
      "id": "0e1ec587-8ece-4710-971f-fbeb61cf036a",
      "metadata": {
        "id": "0e1ec587-8ece-4710-971f-fbeb61cf036a",
        "outputId": "25976cb6-0109-475f-d611-809edf7b6aa6"
      },
      "outputs": [
        {
          "name": "stderr",
          "output_type": "stream",
          "text": [
            "C:\\Users\\THIRUMURUGAN\\AppData\\Local\\Temp\\ipykernel_23008\\2008762237.py:1: SettingWithCopyWarning: \n",
            "A value is trying to be set on a copy of a slice from a DataFrame.\n",
            "Try using .loc[row_indexer,col_indexer] = value instead\n",
            "\n",
            "See the caveats in the documentation: https://pandas.pydata.org/pandas-docs/stable/user_guide/indexing.html#returning-a-view-versus-a-copy\n",
            "  df_agg_bookings[\"occ_pct\"] =  round(df_agg_bookings.successful_bookings * 100 / df_agg_bookings.capacity, 2)\n"
          ]
        },
        {
          "data": {
            "text/html": [
              "<div>\n",
              "<style scoped>\n",
              "    .dataframe tbody tr th:only-of-type {\n",
              "        vertical-align: middle;\n",
              "    }\n",
              "\n",
              "    .dataframe tbody tr th {\n",
              "        vertical-align: top;\n",
              "    }\n",
              "\n",
              "    .dataframe thead th {\n",
              "        text-align: right;\n",
              "    }\n",
              "</style>\n",
              "<table border=\"1\" class=\"dataframe\">\n",
              "  <thead>\n",
              "    <tr style=\"text-align: right;\">\n",
              "      <th></th>\n",
              "      <th>property_id</th>\n",
              "      <th>check_in_date</th>\n",
              "      <th>room_category</th>\n",
              "      <th>successful_bookings</th>\n",
              "      <th>capacity</th>\n",
              "      <th>occ_pct</th>\n",
              "    </tr>\n",
              "  </thead>\n",
              "  <tbody>\n",
              "    <tr>\n",
              "      <th>0</th>\n",
              "      <td>16559</td>\n",
              "      <td>1-May-22</td>\n",
              "      <td>RT1</td>\n",
              "      <td>25</td>\n",
              "      <td>30.0</td>\n",
              "      <td>83.33</td>\n",
              "    </tr>\n",
              "    <tr>\n",
              "      <th>1</th>\n",
              "      <td>19562</td>\n",
              "      <td>1-May-22</td>\n",
              "      <td>RT1</td>\n",
              "      <td>28</td>\n",
              "      <td>30.0</td>\n",
              "      <td>93.33</td>\n",
              "    </tr>\n",
              "    <tr>\n",
              "      <th>2</th>\n",
              "      <td>19563</td>\n",
              "      <td>1-May-22</td>\n",
              "      <td>RT1</td>\n",
              "      <td>23</td>\n",
              "      <td>30.0</td>\n",
              "      <td>76.67</td>\n",
              "    </tr>\n",
              "    <tr>\n",
              "      <th>4</th>\n",
              "      <td>16558</td>\n",
              "      <td>1-May-22</td>\n",
              "      <td>RT1</td>\n",
              "      <td>18</td>\n",
              "      <td>19.0</td>\n",
              "      <td>94.74</td>\n",
              "    </tr>\n",
              "    <tr>\n",
              "      <th>5</th>\n",
              "      <td>17560</td>\n",
              "      <td>1-May-22</td>\n",
              "      <td>RT1</td>\n",
              "      <td>28</td>\n",
              "      <td>40.0</td>\n",
              "      <td>70.00</td>\n",
              "    </tr>\n",
              "  </tbody>\n",
              "</table>\n",
              "</div>"
            ],
            "text/plain": [
              "   property_id check_in_date room_category  successful_bookings  capacity  \\\n",
              "0        16559      1-May-22           RT1                   25      30.0   \n",
              "1        19562      1-May-22           RT1                   28      30.0   \n",
              "2        19563      1-May-22           RT1                   23      30.0   \n",
              "4        16558      1-May-22           RT1                   18      19.0   \n",
              "5        17560      1-May-22           RT1                   28      40.0   \n",
              "\n",
              "   occ_pct  \n",
              "0    83.33  \n",
              "1    93.33  \n",
              "2    76.67  \n",
              "4    94.74  \n",
              "5    70.00  "
            ]
          },
          "execution_count": 58,
          "metadata": {},
          "output_type": "execute_result"
        }
      ],
      "source": [
        "df_agg_bookings[\"occ_pct\"] =  round(df_agg_bookings.successful_bookings * 100 / df_agg_bookings.capacity, 2)\n",
        "df_agg_bookings.head(5)"
      ]
    },
    {
      "cell_type": "markdown",
      "id": "9f6d8a34-e448-4aa0-8186-1b9be14e74e0",
      "metadata": {
        "id": "9f6d8a34-e448-4aa0-8186-1b9be14e74e0"
      },
      "source": [
        "### 3.2 cast dates to datetime format"
      ]
    },
    {
      "cell_type": "code",
      "execution_count": null,
      "id": "eb2a6de4-2e5a-479f-85aa-3d6483aada0f",
      "metadata": {
        "id": "eb2a6de4-2e5a-479f-85aa-3d6483aada0f",
        "outputId": "cbe680d3-d700-4e71-b77f-e3c38bca920d"
      },
      "outputs": [
        {
          "data": {
            "text/plain": [
              "property_id              int64\n",
              "check_in_date           object\n",
              "room_category           object\n",
              "successful_bookings      int64\n",
              "capacity               float64\n",
              "occ_pct                float64\n",
              "dtype: object"
            ]
          },
          "execution_count": 59,
          "metadata": {},
          "output_type": "execute_result"
        }
      ],
      "source": [
        "df_agg_bookings.dtypes"
      ]
    },
    {
      "cell_type": "code",
      "execution_count": null,
      "id": "d18c0047-d2d9-40f3-a290-272e288765b7",
      "metadata": {
        "id": "d18c0047-d2d9-40f3-a290-272e288765b7",
        "outputId": "275985ad-d9a6-4109-ff3d-eaee9038b6e8"
      },
      "outputs": [
        {
          "data": {
            "text/plain": [
              "property_id                     int64\n",
              "check_in_date          datetime64[ns]\n",
              "room_category                  object\n",
              "successful_bookings             int64\n",
              "capacity                      float64\n",
              "occ_pct                       float64\n",
              "dtype: object"
            ]
          },
          "execution_count": 67,
          "metadata": {},
          "output_type": "execute_result"
        }
      ],
      "source": [
        "# df_agg_bookings['check_in_date'] = pd.to_datetime(df_agg_bookings['check_in_date'], format='%d-%b-%y', errors='coerce')\n",
        "df_agg_bookings.loc[:, 'check_in_date'] = pd.to_datetime(df_agg_bookings['check_in_date'], format='%d-%b-%y', errors='coerce')\n",
        "df_agg_bookings.dtypes"
      ]
    },
    {
      "cell_type": "markdown",
      "id": "2fcc2f64-6232-40dc-9bdf-b3ef805b6120",
      "metadata": {
        "id": "2fcc2f64-6232-40dc-9bdf-b3ef805b6120"
      },
      "source": [
        " ## 4. Insights Generation\n"
      ]
    },
    {
      "cell_type": "markdown",
      "id": "7a715b33-5073-4919-aaea-ad0de85f19cb",
      "metadata": {
        "id": "7a715b33-5073-4919-aaea-ad0de85f19cb"
      },
      "source": [
        "#### What is an average occupancy rate in each of the room categories?"
      ]
    },
    {
      "cell_type": "code",
      "execution_count": null,
      "id": "3b0a8418-f694-4ee8-b305-ac57220f0e88",
      "metadata": {
        "id": "3b0a8418-f694-4ee8-b305-ac57220f0e88"
      },
      "outputs": [],
      "source": [
        "df_agg_bookings.head(3)"
      ]
    },
    {
      "cell_type": "code",
      "execution_count": null,
      "id": "635bfd3c-13f0-48c6-819a-fca208cd0c63",
      "metadata": {
        "id": "635bfd3c-13f0-48c6-819a-fca208cd0c63"
      },
      "outputs": [],
      "source": [
        "df_agg_bookings.groupby(\"room_category\")[\"occ_pct\"].mean()"
      ]
    },
    {
      "cell_type": "code",
      "execution_count": null,
      "id": "e6bb3320-e826-492a-8822-e85833b6cf3a",
      "metadata": {
        "id": "e6bb3320-e826-492a-8822-e85833b6cf3a"
      },
      "outputs": [],
      "source": [
        "df_rooms"
      ]
    },
    {
      "cell_type": "code",
      "execution_count": null,
      "id": "c9d9ec42-ab3b-4c8c-8706-91aa7c466b35",
      "metadata": {
        "id": "c9d9ec42-ab3b-4c8c-8706-91aa7c466b35"
      },
      "outputs": [],
      "source": [
        "pd.merge(df_rooms, df_agg_bookings.groupby(\"room_category\")[\"occ_pct\"].mean(), left_on = \"room_id\", right_on = \"room_category\").sort_values(\"occ_pct\")"
      ]
    },
    {
      "cell_type": "markdown",
      "id": "e9b03fef-32b8-494b-8e63-1c361affcd1e",
      "metadata": {
        "id": "e9b03fef-32b8-494b-8e63-1c361affcd1e"
      },
      "source": [
        "### Print average occupancy rate per city"
      ]
    },
    {
      "cell_type": "code",
      "execution_count": null,
      "id": "7df063e1-0408-437f-b7a6-94603e44bb5f",
      "metadata": {
        "id": "7df063e1-0408-437f-b7a6-94603e44bb5f"
      },
      "outputs": [],
      "source": [
        "df_hotels.head()"
      ]
    },
    {
      "cell_type": "code",
      "execution_count": null,
      "id": "dc572e7e-aca3-46d0-91a3-7a475499a790",
      "metadata": {
        "id": "dc572e7e-aca3-46d0-91a3-7a475499a790"
      },
      "outputs": [],
      "source": [
        "df_agg_bookings_city =  pd.merge(df_agg_bookings, df_hotels[[\"property_id\", \"city\"]], on=\"property_id\", how = \"left\")\n",
        "df_agg_bookings_city.groupby('city')[\"occ_pct\"].mean()"
      ]
    },
    {
      "cell_type": "markdown",
      "id": "3eb62a74-7b7a-4b91-a9be-014b7b8fbb95",
      "metadata": {
        "id": "3eb62a74-7b7a-4b91-a9be-014b7b8fbb95"
      },
      "source": [
        "### When was the occupancy better? Weekday or Weekend?"
      ]
    },
    {
      "cell_type": "code",
      "execution_count": null,
      "id": "51e4e4ad-983f-46be-9fc2-b1eda5247ced",
      "metadata": {
        "id": "51e4e4ad-983f-46be-9fc2-b1eda5247ced"
      },
      "outputs": [],
      "source": [
        "df_date.head(3)"
      ]
    },
    {
      "cell_type": "code",
      "execution_count": null,
      "id": "211c61c5-d49b-4f75-a520-37393d02e18e",
      "metadata": {
        "id": "211c61c5-d49b-4f75-a520-37393d02e18e"
      },
      "outputs": [],
      "source": [
        "df_agg_bookings.head(2)"
      ]
    },
    {
      "cell_type": "code",
      "execution_count": null,
      "id": "88968be9-8e6f-4c2e-a7fe-29155c321032",
      "metadata": {
        "id": "88968be9-8e6f-4c2e-a7fe-29155c321032"
      },
      "outputs": [],
      "source": [
        "df_day_type = pd.merge(df_agg_bookings,df_date, left_on = \"check_in_date\", right_on = \"date\", how = \"left\")\n",
        "df_day_type.groupby('day_type')[\"occ_pct\"].mean().round(2)"
      ]
    },
    {
      "cell_type": "markdown",
      "id": "72661aa6-acbe-405e-ab8f-012247337da1",
      "metadata": {
        "id": "72661aa6-acbe-405e-ab8f-012247337da1"
      },
      "source": [
        "### In the month of June, what is the occupancy for different cities?"
      ]
    },
    {
      "cell_type": "code",
      "execution_count": null,
      "id": "1afb6c10-e9bf-4ac4-90d0-eb506ee7afab",
      "metadata": {
        "id": "1afb6c10-e9bf-4ac4-90d0-eb506ee7afab"
      },
      "outputs": [],
      "source": [
        "df_agg_bookings_city.check_in_date.dt.month"
      ]
    },
    {
      "cell_type": "code",
      "execution_count": null,
      "id": "59e9af68-bd89-46f7-ab11-98723dd9288a",
      "metadata": {
        "id": "59e9af68-bd89-46f7-ab11-98723dd9288a"
      },
      "outputs": [],
      "source": [
        "df_june = df_agg_bookings_city[df_agg_bookings_city.check_in_date.dt.month == 6].groupby(\"city\")[\"occ_pct\"].mean().round(2)\n",
        "df_june"
      ]
    },
    {
      "cell_type": "code",
      "execution_count": null,
      "id": "d56b5ece-d90f-4ace-99e7-c9c23033d7c4",
      "metadata": {
        "id": "d56b5ece-d90f-4ace-99e7-c9c23033d7c4"
      },
      "outputs": [],
      "source": [
        "df_june.sort_values().plot(kind='barh')"
      ]
    },
    {
      "cell_type": "markdown",
      "id": "e99b3384-44f0-43c5-923f-627a4b2e7e50",
      "metadata": {
        "id": "e99b3384-44f0-43c5-923f-627a4b2e7e50"
      },
      "source": [
        " #### We got new data for the month of august. Append that to existing data"
      ]
    },
    {
      "cell_type": "code",
      "execution_count": null,
      "id": "62f500c5-a4cb-4058-83bb-077b8aef9956",
      "metadata": {
        "id": "62f500c5-a4cb-4058-83bb-077b8aef9956"
      },
      "outputs": [],
      "source": [
        "df_august.head(3)"
      ]
    },
    {
      "cell_type": "code",
      "execution_count": null,
      "id": "689bada3-0e90-4c76-a5ac-7ddb9db4bd5e",
      "metadata": {
        "id": "689bada3-0e90-4c76-a5ac-7ddb9db4bd5e"
      },
      "outputs": [],
      "source": [
        "df_august.columns"
      ]
    },
    {
      "cell_type": "code",
      "execution_count": null,
      "id": "d7ac20e6-d9ba-4855-91b3-8eeb362242e4",
      "metadata": {
        "id": "d7ac20e6-d9ba-4855-91b3-8eeb362242e4"
      },
      "outputs": [],
      "source": [
        "print(df_agg_bookings.columns)\n",
        "print(df_hotels.columns)\n",
        "print(df_date.columns)"
      ]
    },
    {
      "cell_type": "code",
      "execution_count": null,
      "id": "f6674d45-fb7a-432a-ad4a-d480b25662bb",
      "metadata": {
        "id": "f6674d45-fb7a-432a-ad4a-d480b25662bb"
      },
      "outputs": [],
      "source": [
        "df = pd.merge(df_agg_bookings, df_hotels, on=\"property_id\", how = \"left\")\n",
        "df = pd.merge(df, df_date, left_on = \"check_in_date\", right_on = \"date\").drop(columns=[\"date\"])\n",
        "\n",
        "df.head()"
      ]
    },
    {
      "cell_type": "code",
      "execution_count": null,
      "id": "757459cc-3be0-40d5-901a-92cc89fe05f7",
      "metadata": {
        "id": "757459cc-3be0-40d5-901a-92cc89fe05f7"
      },
      "outputs": [],
      "source": [
        "#transformations on df_august\n",
        "df_august.rename(columns = { 'occ%' : 'occ_pct'}, inplace = True)\n",
        "df_august.check_in_date = pd.to_datetime(df_august.check_in_date)\n",
        "df_august.drop(columns = ['room_class'], inplace = True)\n",
        "\n",
        "df.shape,df_august.shape"
      ]
    },
    {
      "cell_type": "code",
      "execution_count": null,
      "id": "2da1675a-8c84-4f5c-bdda-1155c97ab517",
      "metadata": {
        "id": "2da1675a-8c84-4f5c-bdda-1155c97ab517"
      },
      "outputs": [],
      "source": [
        "latest_df = pd.concat([df,df_august], ignore_index=True, axis=0)\n",
        "latest_df.tail(10)"
      ]
    },
    {
      "cell_type": "code",
      "execution_count": null,
      "id": "5f251f17-3ba8-4d79-9a33-af0838678777",
      "metadata": {
        "id": "5f251f17-3ba8-4d79-9a33-af0838678777"
      },
      "outputs": [],
      "source": [
        "latest_df.shape"
      ]
    },
    {
      "cell_type": "markdown",
      "id": "e036a383-2f0e-42ac-b073-2aba5365d678",
      "metadata": {
        "id": "e036a383-2f0e-42ac-b073-2aba5365d678"
      },
      "source": [
        " #### Print revenue realized per city"
      ]
    },
    {
      "cell_type": "code",
      "execution_count": null,
      "id": "9775834f-ba35-44cb-b498-a5d9c2b7b409",
      "metadata": {
        "id": "9775834f-ba35-44cb-b498-a5d9c2b7b409"
      },
      "outputs": [],
      "source": [
        "df_bookings.head(3)"
      ]
    },
    {
      "cell_type": "code",
      "execution_count": null,
      "id": "08cbd885-52d3-4087-b812-dd803a560277",
      "metadata": {
        "id": "08cbd885-52d3-4087-b812-dd803a560277"
      },
      "outputs": [],
      "source": [
        "df_bookings_city = pd.merge(df_bookings,df_hotels, on='property_id', how='left')\n",
        "df_bookings_city.groupby(\"city\")['revenue_realized'].sum()"
      ]
    },
    {
      "cell_type": "markdown",
      "id": "14f2ff81-c934-4c1f-bdf9-82e0f2c6059d",
      "metadata": {
        "id": "14f2ff81-c934-4c1f-bdf9-82e0f2c6059d"
      },
      "source": [
        "#### Print month by month revenue"
      ]
    },
    {
      "cell_type": "code",
      "execution_count": null,
      "id": "2f2ab000-d854-4251-a795-cb0e9ecf5541",
      "metadata": {
        "id": "2f2ab000-d854-4251-a795-cb0e9ecf5541"
      },
      "outputs": [],
      "source": [
        "df_bookings.info()"
      ]
    },
    {
      "cell_type": "code",
      "execution_count": null,
      "id": "9c0d884f-71da-4c5d-8902-6cba8d3c7e1d",
      "metadata": {
        "id": "9c0d884f-71da-4c5d-8902-6cba8d3c7e1d"
      },
      "outputs": [],
      "source": [
        "df_bookings[\"check_in_date\"] = pd.to_datetime(df_bookings[\"check_in_date\"], errors='coerce')\n",
        "df_bookings.dtypes"
      ]
    },
    {
      "cell_type": "code",
      "execution_count": null,
      "id": "08220618-4366-4f14-bf02-07b52f5b5007",
      "metadata": {
        "id": "08220618-4366-4f14-bf02-07b52f5b5007"
      },
      "outputs": [],
      "source": [
        "df_bookings_date = pd.merge(df_bookings, df_date, left_on = 'check_in_date', right_on='date', how = 'left')\n",
        "df_bookings_date.groupby('mmm yy')[\"revenue_realized\"].sum()"
      ]
    },
    {
      "cell_type": "markdown",
      "id": "a71f5056-1f1d-4607-b129-29926cc4a81d",
      "metadata": {
        "id": "a71f5056-1f1d-4607-b129-29926cc4a81d"
      },
      "source": [
        "### Print revenue realized per hotel type"
      ]
    },
    {
      "cell_type": "code",
      "execution_count": null,
      "id": "90fe5997-5939-4938-a8e6-8719a284ef73",
      "metadata": {
        "id": "90fe5997-5939-4938-a8e6-8719a284ef73"
      },
      "outputs": [],
      "source": [
        "df_bookings_hotel_type = pd.merge(df_bookings, df_hotels, on = 'property_id', how = \"left\")\n",
        "df_bookings_hotel_type.groupby(\"category\")[\"revenue_realized\"].sum()\n",
        ""
      ]
    },
    {
      "cell_type": "markdown",
      "id": "29598c0d-0b89-49f6-996b-479bd05c411d",
      "metadata": {
        "id": "29598c0d-0b89-49f6-996b-479bd05c411d"
      },
      "source": [
        "### Print average revenue per city"
      ]
    },
    {
      "cell_type": "code",
      "execution_count": null,
      "id": "75015838-c534-4af6-ac2a-ded251df0121",
      "metadata": {
        "id": "75015838-c534-4af6-ac2a-ded251df0121"
      },
      "outputs": [],
      "source": [
        "df_bookings_city.ratings_given.unique()"
      ]
    },
    {
      "cell_type": "code",
      "execution_count": null,
      "id": "353d3b5a-7038-4575-ac7f-8cbd05404a2d",
      "metadata": {
        "id": "353d3b5a-7038-4575-ac7f-8cbd05404a2d"
      },
      "outputs": [],
      "source": [
        "df_bookings_city.groupby(\"city\")[\"ratings_given\"].mean()"
      ]
    },
    {
      "cell_type": "markdown",
      "id": "dfa96a37-b204-41c1-8c6c-7d5360eddf99",
      "metadata": {
        "id": "dfa96a37-b204-41c1-8c6c-7d5360eddf99"
      },
      "source": [
        "### Print a pie chart of revenue realized per booking platform"
      ]
    },
    {
      "cell_type": "code",
      "execution_count": null,
      "id": "eee1569e-c3db-4168-80c1-8dd5534fe53b",
      "metadata": {
        "id": "eee1569e-c3db-4168-80c1-8dd5534fe53b",
        "outputId": "8159d4af-e816-4409-e3de-57b0d495761d"
      },
      "outputs": [
        {
          "data": {
            "text/plain": [
              "<Axes: ylabel='revenue_realized'>"
            ]
          },
          "execution_count": 64,
          "metadata": {},
          "output_type": "execute_result"
        },
        {
          "data": {
            "image/png": "[encoded data removed]",
            "text/plain": [
              "<Figure size 640x480 with 1 Axes>"
            ]
          },
          "metadata": {},
          "output_type": "display_data"
        }
      ],
      "source": [
        "df_rev_per_platform = df_bookings.groupby(\"booking_platform\")[\"revenue_realized\"].sum()\n",
        "df_rev_per_platform.plot(kind = \"pie\", autopct = \"%.2f%%\")"
      ]
    }
  ],
  "metadata": {
    "kernelspec": {
      "display_name": "Python 3 (ipykernel)",
      "language": "python",
      "name": "python3"
    },
    "language_info": {
      "codemirror_mode": {
        "name": "ipython",
        "version": 3
      },
      "file_extension": ".py",
      "mimetype": "text/x-python",
      "name": "python",
      "nbconvert_exporter": "python",
      "pygments_lexer": "ipython3",
      "version": "3.10.11"
    },
    "colab": {
      "provenance": [],
      "include_colab_link": true
    }
  },
  "nbformat": 4,
  "nbformat_minor": 5
}